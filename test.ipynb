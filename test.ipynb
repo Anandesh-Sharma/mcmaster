{
 "cells": [
  {
   "cell_type": "code",
   "execution_count": 14,
   "metadata": {},
   "outputs": [],
   "source": [
    "import time \n",
    "import math\n",
    "import datetime\n",
    "import os\n",
    "import json\n",
    "import hashlib\n",
    "import functools\n",
    "import traceback\n",
    "import time\n",
    "\n",
    "from selenium import webdriver\n",
    "from selenium.webdriver.common.by import By\n",
    "from selenium.webdriver.support.ui import WebDriverWait\n",
    "from selenium.common.exceptions import *\n",
    "import undetected_chromedriver as uc\n",
    "from undetected_chromedriver import ChromeOptions\n",
    "from loguru import logger\n",
    "import pandas as pd\n",
    "\n",
    "import xpath as xp\n",
    "from settings import *"
   ]
  },
  {
   "cell_type": "code",
   "execution_count": null,
   "metadata": {},
   "outputs": [],
   "source": [
    "def error_handler(func):\n",
    "    @functools.wraps(func)\n",
    "    def wrapper(self, *args, **kwargs):\n",
    "        try:\n",
    "            if func.__name__ == 'get_family':\n",
    "                d = self.d1\n",
    "                try:\n",
    "                    result = func(self, *args, **kwargs)\n",
    "            elif func.__name__ == 'get_categories':\n",
    "                d = self.d2\n",
    "            else:\n",
    "                d = self.d3\n",
    "\n",
    "            url = d.current_url\n",
    "            result = func(self, *args, **kwargs)\n",
    "        except Exception as e:\n",
    "            traceback.print_exc()\n",
    "            if isinstance(e, NoSuchElementException):\n",
    "                logger.error(e)\n",
    "            else:\n",
    "                logger.error(e)\n",
    "                self.driver.quit()\n",
    "                self.init_driver(url)\n",
    "                result = func(self, *args, **kwargs)\n",
    "        return result\n",
    "    return wrapper"
   ]
  },
  {
   "cell_type": "code",
   "execution_count": 15,
   "metadata": {},
   "outputs": [],
   "source": [
    "class CacheHTMLPages:\n",
    "    def __init__(self):\n",
    "        self.create_cache_folder_with_date()\n",
    "        \n",
    "    def create_cache_folder_with_date(self):\n",
    "        self.cache_path = f'{os.getcwd()}/cache/{datetime.datetime.now().strftime(\"%Y-%m-%d\")}'\n",
    "        if not os.path.exists(self.cache_path):\n",
    "            os.makedirs(self.cache_path)\n",
    "\n",
    "    def set_cache(self, driver):\n",
    "        url = driver.current_url\n",
    "        try:\n",
    "            html = driver.find_element(\"xpath\", \"//*\").get_attribute(\"outerHTML\")\n",
    "        except Exception as e:\n",
    "            logger.error(e)\n",
    "            html = None\n",
    "        url_hash = hashlib.sha1(str.encode(url)).hexdigest()\n",
    "        url_path = f'{self.cache_path}/{url_hash}'\n",
    "        if not os.path.exists(url_path):\n",
    "            os.makedirs(url_path)\n",
    "        \n",
    "        metadata = {\n",
    "            \"url\": url,\n",
    "            \"hashed_url\": url_hash + '.html',\n",
    "            \"cache_path\": self.cache_path,\n",
    "            \"size\": f\"{math.ceil(len(html) / 1024)} KB\",\n",
    "            \"created_at\": datetime.datetime.now().strftime(\"%Y-%m-%d %H:%M:%S\"),\n",
    "            \n",
    "        }\n",
    "\n",
    "        with open(f'{url_path}/{metadata[\"hashed_url\"]}', 'w') as f:\n",
    "            f.write(html.replace('href=\"/', 'href=\"https://www.mcmaster.com/'))\n",
    "        with open(f'{url_path}/metadata.json', 'a') as f:\n",
    "            f.write(json.dumps(metadata) + '\\n')\n",
    "\n",
    "    def get_cache(self, driver, url):\n",
    "        if 'http' not in url:\n",
    "            url = f'{BASE_URL}{url}'\n",
    "        url_hash = hashlib.sha1(str.encode(url)).hexdigest()\n",
    "        url_path = f'{self.cache_path}/{url_hash}'\n",
    "        if os.path.exists(url_path):\n",
    "            driver.get(f'file://{url_path}/{url_hash}.html')\n",
    "            return True\n",
    "        else:\n",
    "            logger.info(f'Caching => {url}')\n",
    "            return False\n"
   ]
  },
  {
   "cell_type": "code",
   "execution_count": 16,
   "metadata": {},
   "outputs": [],
   "source": [
    "class Driver(CacheHTMLPages):\n",
    "    def __init__(self, args=ARGUMENTS) -> None:\n",
    "        super().__init__()\n",
    "        options = ChromeOptions()\n",
    "        for i in args:\n",
    "            options.add_argument(i)\n",
    "        self.driver = uc.Chrome(headless=False, use_subprocess=True, options=options)\n",
    "    def get(self, url):\n",
    "        # get cache file if exists\n",
    "        if not self.get_cache(self.driver, url):\n",
    "            self.driver.get(url)\n",
    "            time.sleep(3)\n",
    "            self.set_cache(self.driver)"
   ]
  },
  {
   "cell_type": "code",
   "execution_count": 17,
   "metadata": {},
   "outputs": [],
   "source": [
    "class ExtractData:\n",
    "    def __init__(self, body, head, path, filename):\n",
    "        self.headers = dict()\n",
    "        self.body_data = list()   \n",
    "        self.process_table_headers(head)\n",
    "        self.process_table_body(body) \n",
    "        self.merge_headers()\n",
    "        self.save_data()\n",
    "    \n",
    "    def validate_headers(self):\n",
    "        if 'title-0' not in self.headers:\n",
    "            raise Exception('Headers Doesnt contains title-0')\n",
    "        if not len(self.headers) * len(self.headers['title-0']) == sum([len (v) for _ , v in self.headers.items()]):\n",
    "            raise Exception('Validation Failed')\n",
    "\n",
    "    def merge_headers(self):\n",
    "        headers_len = len(self.headers['title-0'])\n",
    "        avg_body_len = math.ceil(sum([len(i) for i in self.body_data]) / len(self.body_data))\n",
    "\n",
    "        if self.headers == avg_body_len:\n",
    "            pass\n",
    "        # add one more column in the headers as\n",
    "        # body has a row_header\n",
    "        elif headers_len < avg_body_len:\n",
    "            diff = avg_body_len - headers_len\n",
    "            print(f'Row headers found: {diff}')\n",
    "            for k, v in self.headers.items():\n",
    "                v.append('Row Header')\n",
    "                self.headers[k] = v\n",
    "    \n",
    "    def process_table_headers(self, head):\n",
    "        table_titles = head.find_elements(By.XPATH, './tr')\n",
    "        for index, tr in enumerate(table_titles):\n",
    "            # check if <td> is present i.e title-0\n",
    "            if tr.find_elements(By.XPATH, './td'):\n",
    "                title0 = [i.text for i in tr.find_elements(By.XPATH, './td')]\n",
    "                self.headers[f'title-{len(table_titles) - 1 - index}'] = title0\n",
    "            # rest titles i.e. title-(n)\n",
    "            else:\n",
    "                titlen = []\n",
    "                ths = tr.find_elements(By.XPATH, './th')\n",
    "                for tr1 in ths:\n",
    "                    col_span = tr1.get_attribute('colspan')\n",
    "                    titlen += ([tr1.text] * int(col_span))\n",
    "                \n",
    "                self.headers[f'title-{len(table_titles) - 1 - index}'] = titlen\n",
    "        # validate headers\n",
    "        self.validate_headers()\n",
    "\n",
    "    def process_table_body(self, body):\n",
    "        table_body = body.find_elements(By.XPATH, './tr')\n",
    "        row_headers = ''\n",
    "        for index, tr in enumerate(table_body):\n",
    "            # row is a header actually\n",
    "            if tr.find_elements(By.XPATH, './th'):\n",
    "                row_headers = tr.text\n",
    "                continue\n",
    "            else:\n",
    "                tds = tr.find_elements(By.XPATH, './td')\n",
    "                row = []\n",
    "                for index1, td in enumerate(tds):\n",
    "                    row.append(td.text)\n",
    "                \n",
    "                if row_headers:\n",
    "                    row.append(row_headers)\n",
    "\n",
    "            self.body_data.append(row)\n",
    "    def save_data(self, file_name):\n",
    "        df = pd.DataFrame(self.body_data, columns=[v for k, v in self.headers.items()])\n",
    "\n",
    "\n",
    "\n",
    "        "
   ]
  },
  {
   "cell_type": "code",
   "execution_count": 18,
   "metadata": {},
   "outputs": [],
   "source": [
    "class MCMaster(Driver):\n",
    "    def __init__(self):\n",
    "        self.d1 = Driver()\n",
    "        self.d2 = Driver()\n",
    "        self.d3 = Driver()\n",
    "\n",
    "    def get_family(self, family_url, family_name):\n",
    "        self.d1.get(family_url)\n",
    "        categories = self.d1.driver.find_elements(By.XPATH, xp.CATEGORIES)\n",
    "        for i in categories:\n",
    "            print(i)\n",
    "            category_url, category_name = i.get_attribute('href'), i.text.replace(', ', '-').replace(' & ', '-').replace(' ', '-')\n",
    "            print(category_name, category_url)\n",
    "            self.get_categories({'family_url': family_url, 'family_name': family_name, 'path': family_name.lower().relace(' ', '-')}, category_url, category_name)\n",
    "    \n",
    "\n",
    "    def get_categories(self, meta, category_url, category_name):\n",
    "        self.d2.get(category_url)\n",
    "        products = self.d2.driver.find_elements(By.XPATH, xp.PRODUCTS)\n",
    "        for i in products:\n",
    "            product_urls = [j.get_attribute('href') for j in i.find_elements(By.XPATH, xp.PRODUCT_URLS)]\n",
    "            for product_url in product_urls:\n",
    "                meta['category_url'], meta['category_name'], meta['path'] = category_url, category_name, meta['path'] + '/' + category_name.lower().replace(' ', '-')\n",
    "                self.get_products(meta, product_url)\n",
    "                break\n",
    "\n",
    "\n",
    "    def get_products(self, meta, product_url):\n",
    "        print(meta, product_url)\n",
    "        meta['product_url'] = product_url\n",
    "        self.d3.get(product_url)\n",
    "        for table in self.d3.driver.find_elements(By.XPATH, xp.TABLES):\n",
    "            try:\n",
    "                head = table.find_element(By.XPATH, './thead')\n",
    "                body = table.find_element(By.XPATH, './tbody')\n",
    "                ed = ExtractData(body, head, meta)\n",
    "                print(ed.headers)\n",
    "                print(ed.body_data)\n",
    "\n",
    "            except Exception as NoSuchElementException:\n",
    "                continue\n",
    "\n",
    "        # ExtractProduct(headers=head, data=body)\n"
   ]
  },
  {
   "cell_type": "code",
   "execution_count": 19,
   "metadata": {},
   "outputs": [],
   "source": [
    "mc = MCMaster()"
   ]
  },
  {
   "cell_type": "code",
   "execution_count": 20,
   "metadata": {},
   "outputs": [
    {
     "name": "stderr",
     "output_type": "stream",
     "text": [
      "\u001b[32m2023-10-22 00:39:38.644\u001b[0m | \u001b[1mINFO    \u001b[0m | \u001b[36m__main__\u001b[0m:\u001b[36mget_cache\u001b[0m:\u001b[36m45\u001b[0m - \u001b[1mCaching => https://www.mcmaster.com/products/pulling-and-lifting/\u001b[0m\n",
      "\u001b[32m2023-10-22 00:39:43.221\u001b[0m | \u001b[1mINFO    \u001b[0m | \u001b[36m__main__\u001b[0m:\u001b[36mget_cache\u001b[0m:\u001b[36m45\u001b[0m - \u001b[1mCaching => https://www.mcmaster.com/products/chain/\u001b[0m\n"
     ]
    },
    {
     "name": "stdout",
     "output_type": "stream",
     "text": [
      "<undetected_chromedriver.webelement.WebElement (session=\"65cfb467b8bd43da7be7bea0262050a8\", element=\"1988268AC7034A6524D42043534EC1FC_element_15\")>\n",
      "Chain https://www.mcmaster.com/products/chain/\n"
     ]
    },
    {
     "name": "stderr",
     "output_type": "stream",
     "text": [
      "\u001b[32m2023-10-22 00:39:47.198\u001b[0m | \u001b[1mINFO    \u001b[0m | \u001b[36m__main__\u001b[0m:\u001b[36mget_cache\u001b[0m:\u001b[36m45\u001b[0m - \u001b[1mCaching => https://www.mcmaster.com/products/chain/grade-30-chain-not-for-lifting/\u001b[0m\n"
     ]
    },
    {
     "name": "stdout",
     "output_type": "stream",
     "text": [
      "{'family_url': 'https://www.mcmaster.com/products/pulling-and-lifting/', 'family_name': 'Pulling and Lifting', 'category_url': 'https://www.mcmaster.com/products/chain/', 'category_name': 'Chain'} https://www.mcmaster.com/products/chain/grade-30-chain-not-for-lifting/\n"
     ]
    },
    {
     "name": "stderr",
     "output_type": "stream",
     "text": [
      "\u001b[32m2023-10-22 00:39:52.762\u001b[0m | \u001b[1mINFO    \u001b[0m | \u001b[36m__main__\u001b[0m:\u001b[36mget_cache\u001b[0m:\u001b[36m45\u001b[0m - \u001b[1mCaching => https://www.mcmaster.com/products/chain/general-purpose-grade-80-chain-for-lifting/\u001b[0m\n"
     ]
    },
    {
     "name": "stdout",
     "output_type": "stream",
     "text": [
      "{'title-1': ['', '', '', 'Inside', 'Inside', '', '', '', '', '', '', '', '', ''], 'title-0': ['Straight-Link\\nChain Trade Size', 'Metric\\nTrade Size', 'Thick.', 'Wd.', 'Lg.', 'Cap.,\\nlbs.', 'Wt. per\\nft., lbs.', 'Approximate No.\\nof Links per ft.', 'For Fitting\\nThick.', 'Max.\\nTemp., ° F', 'For Use\\nOutdoors', 'Lengths, ft.', ' ', 'Per Ft.']}\n",
      "[['1/8', '4', '0.16\"', '0.27\"', '0.90\"', '400', '0.3', '13', '1/4\"', '400º', 'No', '5, 10, 25, 50, 100, 200, 300', '3592T12', '$1.60', 'Unfinished Steel'], ['3/16', '5.5', '0.21\"', '0.39\"', '0.95\"', '800', '0.4', '12', '3/8\"', '400º', 'No', '5, 10, 25, 50, 100, 200, 300', '3592T14', '1.61', 'Unfinished Steel'], ['1/4', '7', '0.26\"', '0.46\"', '1.24\"', '1,300', '0.6', '9', '7/16\"', '400º', 'No', '5, 10, 25, 50, 100, 200, 300', '3592T15', '2.37', 'Unfinished Steel'], ['5/16', '8', '0.31\"', '0.49\"', '1.30\"', '1,900', '0.8', '9', '7/16\"', '400º', 'No', '5, 10, 25, 50, 100, 200, 300', '3592T16', '3.40', 'Unfinished Steel'], ['3/8', '10', '0.37\"', '0.60\"', '1.45\"', '2,600', '1.2', '8', '9/16\"', '400º', 'No', '5, 10, 25, 50, 100, 200, 300', '3592T17', '4.98', 'Unfinished Steel'], ['1/2', '13', '0.52\"', '0.81\"', '1.56\"', '4,500', '2.7', '7', '3/4\"', '400º', 'No', '5, 10, 25, 50, 100, 200', '3592T19', '9.94', 'Unfinished Steel'], ['5/8', '16', '0.63\"', '1.00\"', '1.87\"', '6,900', '4', '6', '15/16\"', '400º', 'No', '5, 10, 25, 50, 100', '3592T22', '14.84', 'Unfinished Steel'], ['3/4', '20', '0.78\"', '1.07\"', '2.40\"', '10,600', '6.3', '4', '1\"', '400º', 'No', '5, 10, 25, 50, 100', '3592T23', '39.73', 'Unfinished Steel'], ['1/8', '4', '0.16\"', '0.27\"', '0.90\"', '400', '0.3', '13', '1/4\"', '400º', 'No', '5, 10, 25, 50, 100, 200, 300', '3592T13', '1.99', 'Zinc-Plated Steel'], ['3/16', '5.5', '0.21\"', '0.39\"', '0.95\"', '800', '0.4', '12', '3/8\"', '400º', 'No', '5, 10, 25, 50, 100, 200, 300', '3592T31', '2.10', 'Zinc-Plated Steel'], ['1/4', '7', '0.26\"', '0.46\"', '1.24\"', '1,300', '0.6', '9', '7/16\"', '400º', 'No', '5, 10, 25, 50, 100, 200, 300', '3592T32', '2.94', 'Zinc-Plated Steel'], ['5/16', '8', '0.31\"', '0.49\"', '1.30\"', '1,900', '0.8', '9', '7/16\"', '400º', 'No', '5, 10, 25, 50, 100, 200, 300', '3592T33', '4.00', 'Zinc-Plated Steel'], ['3/8', '10', '0.37\"', '0.60\"', '1.45\"', '2,600', '1.2', '8', '9/16\"', '400º', 'No', '5, 10, 25, 50, 100, 200, 300', '3592T34', '5.23', 'Zinc-Plated Steel'], ['1/2', '13', '0.52\"', '0.81\"', '1.56\"', '4,500', '2.7', '7', '3/4\"', '400º', 'No', '5, 10, 25, 50, 100, 200', '3592T36', '11.70', 'Zinc-Plated Steel'], ['1/8', '4', '0.16\"', '0.27\"', '0.90\"', '400', '0.3', '13', '1/4\"', '400º', 'Yes', '5, 10, 25, 50, 100, 200, 300', '3592T18', '2.33', 'Galvanized Steel'], ['3/16', '5.5', '0.21\"', '0.39\"', '0.95\"', '800', '0.4', '12', '3/8\"', '400º', 'Yes', '5, 10, 25, 50, 100, 200, 300', '3592T44', '2.45', 'Galvanized Steel'], ['1/4', '7', '0.26\"', '0.46\"', '1.24\"', '1,300', '0.6', '9', '7/16\"', '400º', 'Yes', '5, 10, 25, 50, 100, 200, 300', '3592T45', '3.71', 'Galvanized Steel'], ['5/16', '8', '0.31\"', '0.49\"', '1.30\"', '1,900', '0.8', '9', '7/16\"', '400º', 'Yes', '5, 10, 25, 50, 100, 200, 300', '3592T46', '5.07', 'Galvanized Steel'], ['3/8', '10', '0.37\"', '0.60\"', '1.45\"', '2,600', '1.2', '8', '9/16\"', '400º', 'Yes', '5, 10, 25, 50, 100, 200, 300', '3592T47', '6.89', 'Galvanized Steel'], ['1/2', '13', '0.52\"', '0.81\"', '1.56\"', '4,500', '2.7', '7', '3/4\"', '400º', 'Yes', '5, 10, 25, 50, 100, 200', '3592T49', '12.27', 'Galvanized Steel'], ['5/8', '16', '0.63\"', '1.00\"', '1.87\"', '6,900', '4', '6', '15/16\"', '400º', 'Yes', '5, 10, 25, 50, 100', '3592T81', '17.57', 'Galvanized Steel'], ['1/8', '__', '0.13\"', '0.24\"', '0.92\"', '400', '0.2', '13', '3/16\"', '200º', 'No', '5, 10, 25, 50, 100, 200, 300', '3411T51', '3.55', 'Green Powder-Coated Steel'], ['3/16', '5.5', '0.20\"', '0.40\"', '0.98\"', '800', '0.4', '13', '3/8\"', '200º', 'No', '5, 10, 25, 50, 100, 200, 300', '3411T71', '5.20', 'Green Powder-Coated Steel'], ['1/4', '7', '0.26\"', '0.48\"', '1.24\"', '1,300', '0.6', '11', '7/16\"', '200º', 'No', '5, 10, 25, 50, 100, 200, 300', '3411T72', '6.29', 'Green Powder-Coated Steel'], ['5/16', '8', '0.33\"', '0.48\"', '1.28\"', '1,900', '1', '10', '7/16\"', '200º', 'No', '5, 10, 25, 50, 100, 200, 300', '3411T73', '10.48', 'Green Powder-Coated Steel'], ['3/8', '10', '0.39\"', '0.55\"', '1.37\"', '2,600', '1.4', '9', '1/2\"', '200º', 'No', '5, 10, 25, 50, 100, 200, 300', '3411T74', '13.46', 'Green Powder-Coated Steel']]\n",
      "{'family_url': 'https://www.mcmaster.com/products/pulling-and-lifting/', 'family_name': 'Pulling and Lifting', 'category_url': 'https://www.mcmaster.com/products/chain/', 'category_name': 'Chain'} https://www.mcmaster.com/products/chain/general-purpose-grade-80-chain-for-lifting/\n"
     ]
    },
    {
     "name": "stderr",
     "output_type": "stream",
     "text": [
      "\u001b[32m2023-10-22 00:39:57.369\u001b[0m | \u001b[1mINFO    \u001b[0m | \u001b[36m__main__\u001b[0m:\u001b[36mget_cache\u001b[0m:\u001b[36m45\u001b[0m - \u001b[1mCaching => https://www.mcmaster.com/products/chain/chain-with-fittings-on-both-ends/\u001b[0m\n"
     ]
    },
    {
     "name": "stdout",
     "output_type": "stream",
     "text": [
      "{'title-1': ['', '', '', 'Inside', 'Inside', '', '', '', '', '', '', '', '', ''], 'title-0': ['Straight-Link\\nChain Trade Size', 'Metric\\nTrade Size', 'Thick.', 'Wd.', 'Lg.', 'Cap.,\\nlbs.', 'Wt. per\\nft., lbs.', 'Approximate No.\\nof Links per ft.', 'For Fitting\\nThick.', 'Max.\\nTemp., ° F', 'For Use\\nOutdoors', 'Lengths, ft.', ' ', 'Per Ft.']}\n",
      "[['7/32', '5.5', '0.22\"', '0.32\"', '0.68\"', '2,100', '0.5', '18', '5/16\"', '400°', 'No', '1, 2, 3, 4, 5, 10, 25, 50', '3587T22', '$5.02', 'Black Painted Steel'], ['9/32', '7', '0.28\"', '0.41\"', '0.88\"', '3,500', '0.8', '13', '3/8\"', '400°', 'No', '1, 2, 3, 4, 5, 10, 25, 50', '3587T14', '8.43', 'Black Painted Steel'], ['5/16', '8', '0.33\"', '0.48\"', '1.02\"', '4,500', '1.1', '11', '7/16\"', '400°', 'No', '1, 2, 3, 4, 5, 10, 25, 50', '3587T57', '9.99', 'Black Painted Steel'], ['3/8', '10', '0.40\"', '0.57\"', '1.22\"', '7,100', '1.5', '9', '9/16\"', '400°', 'No', '1, 2, 3, 4, 5, 10, 25, 50', '3587T15', '11.50', 'Black Painted Steel'], ['1/2', '13', '0.51\"', '0.69\"', '1.54\"', '12,000', '2.6', '8', '11/16\"', '400°', 'No', '1, 2, 3, 4, 5, 10, 25, 50', '3587T16', '14.40', 'Black Painted Steel'], ['5/8', '16', '0.63\"', '0.92\"', '1.93\"', '18,100', '3.7', '6', '7/8\"', '400°', 'No', '1, 2, 3, 4, 5, 10, 25, 50', '3587T17', '25.55', 'Black Painted Steel'], ['3/4', '20', '0.79\"', '1.01\"', '2.44\"', '28,300', '5.8', '5', '1\"', '400°', 'No', '1, 2, 3, 4, 5, 10, 25, 50', '3587T18', '42.47', 'Black Painted Steel'], ['9/32', '7', '0.28\"', '0.41\"', '0.82\"', '3,500', '0.8', '13', '3/8\"', '400°', 'No', '1, 2, 3, 4, 5, 10, 25, 50', '3457T31', '11.81', 'Zinc-Plated Steel'], ['5/16', '8', '0.31\"', '0.46\"', '0.94\"', '4,500', '1.2', '12', '7/16\"', '400°', 'No', '1, 2, 3, 4, 5, 10, 25, 50', '3457T61', '13.30', 'Zinc-Plated Steel'], ['1/2', '13', '0.50\"', '0.78\"', '1.52\"', '12,000', '2.7', '9', '3/4\"', '400°', 'No', '1, 2, 3, 4, 5, 10, 25, 50', '3457T41', '22.04', 'Zinc-Plated Steel'], ['5/8', '16', '0.61\"', '0.87\"', '1.89\"', '18,100', '3.8', '8', '13/16\"', '400°', 'No', '1, 2, 3, 4, 5, 10, 25, 50', '3457T51', '41.71', 'Zinc-Plated Steel']]\n",
      "{'title-0': ['For Straight-Link\\nChain Trade Size', 'For Manufacturer\\nModel Number', ' ', 'Each']}\n",
      "[['9/32, 3/8, 1/2, 5/8, 3/4, 7/8, 1', 'C8, C10', '3831T38', '$14.82', 'For Grade 80 and Grade 100 Chain'], ['9/32, 3/8, 1/2, 5/8, 3/4, 7/8, 1', 'L8, L10', '3831T411', '14.82', 'For Grade 80 and Grade 100 Chain'], ['9/32, 3/8, 1/2, 5/8, 3/4, 7/8, 1', 'P8, P10, H29, KWB', '3831T412', '14.82', 'For Grade 80 and Grade 100 Chain']]\n",
      "{'family_url': 'https://www.mcmaster.com/products/pulling-and-lifting/', 'family_name': 'Pulling and Lifting', 'category_url': 'https://www.mcmaster.com/products/chain/', 'category_name': 'Chain'} https://www.mcmaster.com/products/chain/chain-with-fittings-on-both-ends/\n"
     ]
    },
    {
     "name": "stderr",
     "output_type": "stream",
     "text": [
      "\u001b[32m2023-10-22 00:40:01.788\u001b[0m | \u001b[1mINFO    \u001b[0m | \u001b[36m__main__\u001b[0m:\u001b[36mget_cache\u001b[0m:\u001b[36m45\u001b[0m - \u001b[1mCaching => https://www.mcmaster.com/products/chain/oval-shaped-threaded-connecting-links-not-for-lifting/\u001b[0m\n"
     ]
    },
    {
     "name": "stdout",
     "output_type": "stream",
     "text": [
      "{'title-1': ['', '', '', 'Inside', 'Inside', '', '', '', '', '', '14-ft. Lg.', '14-ft. Lg.', '20-ft. Lg.', '20-ft. Lg.'], 'title-0': ['Straight-Link\\nChain Trade Size', 'Metric\\nTrade Size', 'Thick.', 'Wd.', 'Lg.', 'Cap.,\\nlbs.', 'Wt. per\\nft., lbs.', 'Hook\\nOpening Wd.', 'Fitting Type', 'Specifications Met', ' ', 'Each', ' ', 'Each']}\n",
      "[['5/16', '8', '0.33\"', '0.48\"', '1.29\"', '3,900', '1.1', '7/16\"', 'Grab Hook', 'D.O.T. 393.102', '3426T41', '$88.47', '3426T44', '$104.10', 'Steel — Chain Grade 43'], ['3/8', '10', '0.39\"', '0.55\"', '1.37\"', '5,400', '1.5', '1/2\"', 'Grab Hook', 'D.O.T. 393.102', '______', '__', '3426T8', '136.81', 'Steel — Chain Grade 43'], ['3/8', '10', '0.39\"', '0.55\"', '1.37\"', '5,400', '1.6', '1/2\"', 'Grab Hook', 'D.O.T. 393.102', '3426T51', '101.53', '______', '__', 'Steel — Chain Grade 43'], ['1/2', '13', '0.51\"', '0.75\"', '1.78\"', '9,200', '2.3', '5/8\"', 'Grab Hook', 'D.O.T. 393.102', '______', '__', '3426T5', '245.91', 'Steel — Chain Grade 43'], ['5/16', '8', '0.33\"', '0.48\"', '1.12\"', '4,700', '1.2', '7/16\"', 'Grab Hook', 'D.O.T. 393.102', '3362T61', '105.76', '3362T73', '142.33', 'Zinc-Plated Steel — Chain Grade 70'], ['3/8', '10', '0.39\"', '0.55\"', '1.37\"', '6,600', '1.6', '1/2\"', 'Grab Hook', 'D.O.T. 393.102', '______', '__', '3362T76', '147.28', 'Zinc-Plated Steel — Chain Grade 70'], ['3/8', '10', '0.39\"', '0.55\"', '1.37\"', '6,600', '1.8', '1/2\"', 'Grab Hook', 'D.O.T. 393.102', '3362T63', '109.50', '______', '__', 'Zinc-Plated Steel — Chain Grade 70'], ['1/2', '13', '0.51\"', '0.75\"', '1.78\"', '11,300', '2.7', '5/8\"', 'Grab Hook', 'D.O.T. 393.102', '______', '__', '3362T43', '242.13', 'Zinc-Plated Steel — Chain Grade 70']]\n",
      "{'family_url': 'https://www.mcmaster.com/products/pulling-and-lifting/', 'family_name': 'Pulling and Lifting', 'category_url': 'https://www.mcmaster.com/products/chain/', 'category_name': 'Chain'} https://www.mcmaster.com/products/chain/oval-shaped-threaded-connecting-links-not-for-lifting/\n"
     ]
    },
    {
     "name": "stderr",
     "output_type": "stream",
     "text": [
      "\u001b[32m2023-10-22 00:40:07.208\u001b[0m | \u001b[1mINFO    \u001b[0m | \u001b[36m__main__\u001b[0m:\u001b[36mget_cache\u001b[0m:\u001b[36m45\u001b[0m - \u001b[1mCaching => https://www.mcmaster.com/products/chain/ansi-roller-chain-and-links-10/\u001b[0m\n"
     ]
    },
    {
     "name": "stdout",
     "output_type": "stream",
     "text": [
      "{'title-0': ['Thick.', 'Opening\\nWd.', 'Inside\\nLg.', 'Inside\\nWd.', 'Capacity,\\nlbs.', ' ', 'Each']}\n",
      "[['1/8\"', '3/16\"', '1 1/8\"', '3/8\"', '200', '8947T14', '$1.58', 'Zinc-Plated Steel'], ['1/8\"', '3/8\"', '1 17/32\"', '3/8\"', '200', '3711T21', '6.41', 'Zinc-Plated Steel'], ['5/32\"', '3/16\"', '1 1/4\"', '7/16\"', '400', '8947T11', '1.83', 'Zinc-Plated Steel'], ['5/32\"', '27/64\"', '1 3/4\"', '7/16\"', '300', '3711T74', '2.33', 'Zinc-Plated Steel'], ['3/16\"', '1/4\"', '1 1/2\"', '1/2\"', '600', '8947T15', '2.71', 'Zinc-Plated Steel'], ['3/16\"', '1/2\"', '2 1/32\"', '1/2\"', '500', '3711T22', '7.44', 'Zinc-Plated Steel'], ['1/4\"', '1/4\"', '1 3/4\"', '9/16\"', '800', '8947T16', '2.83', 'Zinc-Plated Steel'], ['1/4\"', '9/16\"', '2 5/16\"', '9/16\"', '700', '3711T23', '8.74', 'Zinc-Plated Steel'], ['9/32\"', '3/8\"', '2\"', '11/16\"', '1,000', '8947T44', '3.42', 'Zinc-Plated Steel'], ['5/16\"', '3/8\"', '2 3/8\"', '11/16\"', '1,700', '8947T17', '4.15', 'Zinc-Plated Steel'], ['5/16\"', '11/16\"', '2 13/16\"', '11/16\"', '1,400', '3711T24', '11.17', 'Zinc-Plated Steel'], ['11/32\"', '3/4\"', '3 1/32\"', '3/4\"', '1,700', '3711T25', '13.47', 'Zinc-Plated Steel'], ['3/8\"', '7/16\"', '2 7/16\"', '3/4\"', '2,200', '8947T18', '6.78', 'Zinc-Plated Steel'], ['15/32\"', '15/16\"', '3 15/16\"', '15/16\"', '2,700', '3711T26', '22.16', 'Zinc-Plated Steel'], ['1/2\"', '9/16\"', '3 3/16\"', '7/8\"', '3,300', '8947T23', '9.80', 'Zinc-Plated Steel'], ['9/16\"', '11/16\"', '3 7/8\"', '1\"', '3,600', '8947T31', '19.32', 'Zinc-Plated Steel'], ['9/16\"', '1 1/32\"', '4 1/2\"', '1 1/32\"', '4,400', '3711T27', '30.74', 'Zinc-Plated Steel'], ['5/8\"', '3/4\"', '4 1/4\"', '1 1/8\"', '4,000', '8947T32', '31.49', 'Zinc-Plated Steel'], ['5/8\"', '1 5/32\"', '5 1/16\"', '1 5/32\"', '5,500', '3711T28', '47.22', 'Zinc-Plated Steel'], ['23/32\"', '1 1/4\"', '5 17/32\"', '1 1/4\"', '6,600', '3711T29', '76.70', 'Zinc-Plated Steel'], ['25/32\"', '1 11/32\"', '6 1/4\"', '1 11/32\"', '7,900', '3711T31', '108.86', 'Zinc-Plated Steel'], ['1/8\"', '3/16\"', '1 1/8\"', '3/8\"', '400', '8947T24', '1.81', '316 Stainless Steel'], ['1/8\"', '3/8\"', '1 17/32\"', '3/8\"', '400', '3711T32', '14.34', '316 Stainless Steel'], ['5/32\"', '1/4\"', '1 1/4\"', '7/16\"', '600', '8947T12', '1.98', '316 Stainless Steel'], ['5/32\"', '15/32\"', '1 3/4\"', '7/16\"', '300', '3711T75', '4.39', '316 Stainless Steel'], ['3/16\"', '1/4\"', '1 1/2\"', '1/2\"', '900', '8947T25', '2.34', '316 Stainless Steel'], ['3/16\"', '1/2\"', '2 1/32\"', '1/2\"', '800', '3711T33', '18.18', '316 Stainless Steel'], ['1/4\"', '5/16\"', '1 3/4\"', '9/16\"', '1,400', '8947T26', '2.78', '316 Stainless Steel'], ['1/4\"', '9/16\"', '2 5/16\"', '9/16\"', '1,200', '3711T34', '23.01', '316 Stainless Steel'], ['9/32\"', '3/8\"', '2\"', '11/16\"', '1,400', '8947T33', '5.91', '316 Stainless Steel'], ['5/16\"', '3/8\"', '2 3/8\"', '11/16\"', '2,400', '8947T27', '4.69', '316 Stainless Steel'], ['5/16\"', '11/16\"', '2 13/16\"', '11/16\"', '2,100', '3711T35', '40.19', '316 Stainless Steel'], ['11/32\"', '3/4\"', '3 1/32\"', '3/4\"', '2,700', '3711T36', '47.73', '316 Stainless Steel'], ['3/8\"', '1/2\"', '2 3/4\"', '3/4\"', '3,900', '8947T28', '7.77', '316 Stainless Steel'], ['15/32\"', '15/16\"', '3 15/16\"', '15/16\"', '4,800', '3711T37', '89.94', '316 Stainless Steel'], ['1/2\"', '9/16\"', '3 3/16\"', '7/8\"', '5,500', '8947T29', '12.81', '316 Stainless Steel'], ['9/16\"', '21/32\"', '3 21/32\"', '1 1/32\"', '7,700', '8947T82', '104.35', '316 Stainless Steel'], ['9/16\"', '1 1/32\"', '4 1/2\"', '1 1/32\"', '6,800', '3711T38', '138.19', '316 Stainless Steel'], ['5/8\"', '3/4\"', '4 1/4\"', '1 5/32\"', '9,900', '8947T83', '149.36', '316 Stainless Steel'], ['5/8\"', '1 5/32\"', '5 1/16\"', '1 5/32\"', '8,800', '3711T39', '204.56', '316 Stainless Steel'], ['3/4\"', '1 1/4\"', '5 1/2\"', '1 1/4\"', '10,800', '3711T12', '114.17', '316 Stainless Steel']]\n",
      "{'family_url': 'https://www.mcmaster.com/products/pulling-and-lifting/', 'family_name': 'Pulling and Lifting', 'category_url': 'https://www.mcmaster.com/products/chain/', 'category_name': 'Chain'} https://www.mcmaster.com/products/chain/ansi-roller-chain-and-links-10/\n",
      "{'title-1': ['', '', '', '', '', 'Chain\\n ', 'Chain\\n ', 'Chain\\n ', 'Connecting Links\\n ', 'Connecting Links\\n ', 'Adding Links\\n ', 'Adding Links\\n ', 'Adding-and-Connecting\\nLinks', 'Adding-and-Connecting\\nLinks'], 'title-0': ['Roller Chain\\nTrade No.', 'Pitch', 'Roller\\nDia.', 'Roller\\nWd.', 'Working\\nLoad, lbs.', 'Lengths, ft.', ' ', 'Per\\nFt.', ' ', 'Each', ' ', 'Each', ' ', 'Each']}\n",
      "[['25', '1/4\"', '0.130\"', '1/8\"', '140', '1-20, 50, 100', '6261K171', '$6.84', '6261K108', '$2.32', '6261K106', '$1.52', '6261K105', '$4.56', 'Steel'], ['35', '3/8\"', '0.200\"', '3/16\"', '560', '1-20, 50, 100', '6261K172', '5.07', '6261K191', '1.84', '6261K241', '1.32', '6261K261', '3.48', 'Steel'], ['40', '1/2\"', '0.312\"', '5/16\"', '940', '1-20, 50, 100', '6261K173', '5.88', '6261K193', '1.72', '6261K243', '1.40', '6261K263', '3.92', 'Steel'], ['41', '1/2\"', '0.306\"', '1/4\"', '500', '1-20, 50, 100', '6261K174', '6.00', '6261K192', '2.68', '6261K242', '1.44', '6261K262', '4.81', 'Steel'], ['50', '5/8\"', '0.400\"', '3/8\"', '1,620', '1-20, 50, 100', '6261K175', '7.77', '6261K194', '2.04', '6261K244', '2.00', '6261K264', '4.37', 'Steel'], ['60', '3/4\"', '0.469\"', '1/2\"', '2,470', '1-20, 50, 100', '6261K176', '10.12', '6261K195', '3.00', '6261K245', '2.76', '6261K265', '6.00', 'Steel'], ['80', '1\"', '0.625\"', '5/8\"', '4,290', '1-20, 50, 100', '6261K177', '17.81', '6261K196', '5.04', '6261K246', '4.56', '6261K266', '9.59', 'Steel'], ['100', '1 1/4\"', '0.750\"', '3/4\"', '6,600', '1-20, 50, 100', '6261K178', '28.86', '6261K181', '6.89', '6261K211', '7.30', '6261K271', '15.41', 'Steel'], ['120', '1 1/2\"', '0.875\"', '1\"', '8,870', '1-20, 50', '6261K179', '42.21', '6261K182', '10.74', '6261K212', '12.37', '6261K272', '23.48', 'Steel'], ['140', '1 3/4\"', '1.000\"', '1\"', '11,740', '1-20, 50', '6261K185', '52.00', '6261K183', '14.74', '6261K213', '18.78', '6261K273', '32.26', 'Steel'], ['160', '2\"', '1.125\"', '1 1/4\"', '15,490', '1-20, 50', '6261K186', '65.09', '6261K184', '20.59', '6261K214', '27.52', '6261K274', '45.70', 'Steel']]\n"
     ]
    },
    {
     "name": "stderr",
     "output_type": "stream",
     "text": [
      "\u001b[32m2023-10-22 00:40:12.562\u001b[0m | \u001b[1mINFO    \u001b[0m | \u001b[36m__main__\u001b[0m:\u001b[36mget_cache\u001b[0m:\u001b[36m45\u001b[0m - \u001b[1mCaching => https://www.mcmaster.com/products/chain/floating-roller-chain-tensioners/\u001b[0m\n"
     ]
    },
    {
     "name": "stdout",
     "output_type": "stream",
     "text": [
      "{'title-1': ['', '', '', '', '', 'Chain\\n ', 'Chain\\n ', 'Chain\\n ', 'Connecting Links\\n ', 'Connecting Links\\n ', 'Adding Links\\n ', 'Adding Links\\n ', 'Adding-and-Connecting\\nLinks', 'Adding-and-Connecting\\nLinks'], 'title-0': ['Roller Chain\\nTrade No.', 'Pitch', 'Roller\\nDia.', 'Roller\\nWd.', 'Working\\nLoad, lbs.', 'Lengths, ft.', ' ', 'Per\\nFt.', ' ', 'Each', ' ', 'Each', ' ', 'Each']}\n",
      "[['35-2', '3/8\"', '0.200\"', '3/16\"', '810', '1-20, 50, 100', '6261K711', '$13.05', '6261K221', '$3.92', '6261K103', '$2.68', '6261K841', '$7.48', 'Steel'], ['40-2', '1/2\"', '0.312\"', '5/16\"', '1,350', '1-20, 50, 100', '6261K712', '13.74', '6261K223', '4.08', '6261K104', '3.04', '6261K842', '7.96', 'Steel'], ['50-2', '5/8\"', '0.400\"', '3/8\"', '2,350', '1-20, 50, 100', '6261K713', '18.00', '6261K224', '4.26', '6261K109', '4.00', '6261K843', '9.56', 'Steel'], ['60-2', '3/4\"', '0.469\"', '1/2\"', '3,300', '1-20, 50, 100', '6261K714', '24.30', '6261K225', '6.26', '6261K116', '5.63', '6261K844', '13.33', 'Steel'], ['80-2', '1\"', '0.625\"', '5/8\"', '5,600', '1-20, 50', '6261K715', '38.91', '6261K226', '9.41', '6261K117', '9.96', '6261K845', '21.00', 'Steel'], ['100-2', '1 1/4\"', '0.750\"', '3/4\"', '8,600', '1-20, 50', '6261K91', '63.49', '6261K922', '15.56', '6261K118', '15.93', '6261K923', '35.96', 'Steel'], ['120-2', '1 1/2\"', '0.875\"', '1\"', '11,500', '1-20, 50', '6261K81', '88.60', '6261K706', '24.48', '______', '__', '6261K92', '53.52', 'Steel'], ['140-2', '1 3/4\"', '1.000\"', '1\"', '15,300', '1-20', '6261K82', '111.00', '6261K707', '33.26', '______', '__', '6261K709', '71.59', 'Steel'], ['160-2', '2\"', '1.125\"', '1 1/4\"', '20,200', '1-20', '6261K83', '141.81', '6261K708', '45.70', '______', '__', '6261K94', '99.07', 'Steel']]\n",
      "{'family_url': 'https://www.mcmaster.com/products/pulling-and-lifting/', 'family_name': 'Pulling and Lifting', 'category_url': 'https://www.mcmaster.com/products/chain/', 'category_name': 'Chain'} https://www.mcmaster.com/products/chain/floating-roller-chain-tensioners/\n"
     ]
    },
    {
     "name": "stderr",
     "output_type": "stream",
     "text": [
      "\u001b[32m2023-10-22 00:40:17.401\u001b[0m | \u001b[1mINFO    \u001b[0m | \u001b[36m__main__\u001b[0m:\u001b[36mget_cache\u001b[0m:\u001b[36m45\u001b[0m - \u001b[1mCaching => https://www.mcmaster.com/products/chain/guards-for-chain-and-belt-drives-4/\u001b[0m\n"
     ]
    },
    {
     "name": "stdout",
     "output_type": "stream",
     "text": [
      "{'title-1': ['', '', 'Overall', 'Overall', 'Overall', '', '', '', '', ''], 'title-0': ['For Roller Chain Trade Size', 'For Roller Chain Strand Type', 'Ht.', 'Wd.', 'Dp.', 'Housing Material', 'Strap Material', 'Max.\\nTemperature, ° F', ' ', 'Each']}\n",
      "[['25', 'Single', '12\"', '2 1/2\"', '1 3/32\"', '304 Stainless Steel', 'HDPE Plastic', '180°', '5973K1', '$74.47', 'UHMW Plastic'], ['35', 'Single', '12\"', '2 1/2\"', '1 3/32\"', '304 Stainless Steel', 'HDPE Plastic', '180°', '5973K2', '76.60', 'UHMW Plastic'], ['40, 41, 52, 25-2', 'Single, Double', '12\"', '3\"', '2 11/16\"', '304 Stainless Steel', 'HDPE Plastic', '180°', '5973K3', '93.62', 'UHMW Plastic'], ['50', 'Single', '12\"', '3 1/2\"', '2 7/8\"', '304 Stainless Steel', 'HDPE Plastic', '180°', '5973K4', '108.51', 'UHMW Plastic'], ['60, 35-2, 40-2, 35-3', 'Single, Double, Triple', '12\"', '4\"', '3 1/8\"', '304 Stainless Steel', 'HDPE Plastic', '180°', '5973K5', '100.00', 'UHMW Plastic'], ['76, 100, 60-2, 40-3', 'Single, Double, Triple', '16\"', '5\"', '4 1/16\"', '304 Stainless Steel', 'HDPE Plastic', '180°', '5973K7', '220.00', 'UHMW Plastic'], ['80, 50-2, 35-4', 'Single, Double, Quadruple', '16\"', '4 1/2\"', '3 3/4\"', '304 Stainless Steel', 'HDPE Plastic', '180°', '5973K6', '165.96', 'UHMW Plastic'], ['120, 80-2, 50-3, 40-4', 'Single, Double, Triple, Quadruple', '16\"', '5 1/2\"', '4 13/16\"', '304 Stainless Steel', 'HDPE Plastic', '180°', '5973K8', '248.08', 'UHMW Plastic'], ['200, 100-2, 80-3, 60-4, 50-5, 40-6', 'Single, Double, Triple, Quadruple, Fivefold, Sixfold', '24\"', '7 1/2\"', '6\"', '304 Stainless Steel', 'HDPE Plastic', '180°', '5973K204', '653.85', 'UHMW Plastic'], ['35', 'Single', '12\"', '2 1/2\"', '1 3/32\"', '304 Stainless Steel', 'Galvanized Steel', '450°', '5973K211', '193.62', 'PTFE Plastic'], ['40, 41, 52, 25-2', 'Single, Double', '12\"', '3\"', '2 11/16\"', '304 Stainless Steel', 'Galvanized Steel', '450°', '5973K212', '246.81', 'PTFE Plastic'], ['50', 'Single', '12\"', '3 1/2\"', '2 7/8\"', '304 Stainless Steel', 'Galvanized Steel', '450°', '5973K213', '355.32', 'PTFE Plastic'], ['60, 35-2, 40-2, 35-3', 'Single, Double', '12\"', '4\"', '3 1/8\"', '304 Stainless Steel', 'Galvanized Steel', '450°', '5973K214', '380.77', 'PTFE Plastic'], ['25', 'Single', '12\"', '2 1/2\"', '1 3/32\"', '304 Stainless Steel', 'HDPE Plastic', '180°', '5973K224', '108.51', 'Titanium'], ['35', 'Single', '12\"', '2 1/2\"', '1 3/32\"', '304 Stainless Steel', 'HDPE Plastic', '180°', '5973K225', '117.02', 'Titanium'], ['40, 41, 52, 25-2', 'Single, Double', '12\"', '3\"', '2 11/16\"', '304 Stainless Steel', 'HDPE Plastic', '180°', '5973K226', '144.68', 'Titanium'], ['50', 'Single', '12\"', '3 1/2\"', '2 7/8\"', '304 Stainless Steel', 'HDPE Plastic', '180°', '5973K227', '161.70', 'Titanium'], ['60, 35-2, 40-2, 35-3', 'Single, Double, Triple', '12\"', '4\"', '3 1/8\"', '304 Stainless Steel', 'HDPE Plastic', '180°', '5973K228', '200.00', 'Titanium'], ['76, 100, 60-2, 40-3', 'Single, Double, Triple', '16\"', '5\"', '4 1/16\"', '304 Stainless Steel', 'HDPE Plastic', '180°', '5973K231', '291.49', 'Titanium'], ['80, 50-2, 35-4', 'Single, Double, Quadruple', '16\"', '4 1/2\"', '3 3/4\"', '304 Stainless Steel', 'HDPE Plastic', '180°', '5973K229', '227.66', 'Titanium'], ['120, 80-2, 50-3, 40-4', 'Single, Double, Triple, Quadruple', '16\"', '5 1/2\"', '4 13/16\"', '304 Stainless Steel', 'HDPE Plastic', '180°', '5973K232', '355.32', 'Titanium']]\n",
      "{'family_url': 'https://www.mcmaster.com/products/pulling-and-lifting/', 'family_name': 'Pulling and Lifting', 'category_url': 'https://www.mcmaster.com/products/chain/', 'category_name': 'Chain'} https://www.mcmaster.com/products/chain/guards-for-chain-and-belt-drives-4/\n"
     ]
    },
    {
     "name": "stderr",
     "output_type": "stream",
     "text": [
      "\u001b[32m2023-10-22 00:40:21.559\u001b[0m | \u001b[1mINFO    \u001b[0m | \u001b[36m__main__\u001b[0m:\u001b[36mget_cache\u001b[0m:\u001b[36m45\u001b[0m - \u001b[1mCaching => https://www.mcmaster.com/products/chain/build-your-own-chain-barriers/\u001b[0m\n"
     ]
    },
    {
     "name": "stdout",
     "output_type": "stream",
     "text": [
      "{'title-0': ['For Max. Sprocket\\nCtr.-to-Ctr.', 'For Max.\\nSprocket Wd.', 'For Max. Large\\nSprocket OD', 'For Max. Small\\nSprocket OD', 'Guard\\nLg.', 'Guard\\nDp.', 'Material', 'Gauge', 'Mounting\\nFasteners Included', ' ', 'Each']}\n",
      "[['10 1/2\"', '1 3/4\"', '7\"', '3\"', '19 1/2\"', '2 3/4\"', 'Steel', '14', 'No', '6248K34', '$156.00'], ['14 1/2\"', '2 7/8\"', '13\"', '4 5/8\"', '27 5/16\"', '3 7/8\"', 'Steel', '14', 'No', '6248K35', '198.00'], ['15\"', '3 1/4\"', '14 3/4\"', '7\"', '29 7/8\"', '4 1/4\"', 'Steel', '14', 'No', '6248K36', '204.00'], ['20 1/2\"', '3 1/4\"', '14 3/4\"', '5 1/2\"', '34 5/8\"', '4 1/4\"', 'Steel', '14', 'No', '6248K37', '222.00'], ['23 1/2\"', '4\"', '19\"', '6\"', '40\"', '5\"', 'Steel', '14', 'No', '6248K38', '274.00'], ['27 1/2\"', '4\"', '19\"', '8\"', '45\"', '5\"', 'Steel', '14', 'No', '6248K39', '284.00'], ['31 1/2\"', '4 3/4\"', '23 1/2\"', '11 1/4\"', '52 7/8\"', '5 3/4\"', 'Steel', '14', 'No', '6248K41', '348.00']]\n",
      "{'family_url': 'https://www.mcmaster.com/products/pulling-and-lifting/', 'family_name': 'Pulling and Lifting', 'category_url': 'https://www.mcmaster.com/products/chain/', 'category_name': 'Chain'} https://www.mcmaster.com/products/chain/build-your-own-chain-barriers/\n",
      "{'title-1': ['', '', '', 'Post', 'Post', 'Post', '', '', '', 'Mounting\\nHoles', 'Mounting\\nHoles', '', '', '', ''], 'title-0': ['Style', 'Shape', 'Ht.', 'Dia.', 'Wd.', 'Dp.', 'Base\\nDia.', 'Material', 'Environment', 'No.\\nof', 'Dia.', 'Mounting Hardware', 'Choose a Color', ' ', 'Each']}\n",
      "[['A', 'Round', '33\"', '2\"', '__', '__', '14\"', 'Polyethylene', 'Outdoor', '__', '__', '__', 'Black, Orange, Red, White, Yellow', '9197T96', '$41.05', 'Solid'], ['A', 'Round', '41\"', '2\"', '__', '__', '14\"', 'Polyethylene', 'Outdoor', '__', '__', '__', 'Black, Orange, Red, White, Yellow', '9197T97', '42.59', 'Solid'], ['A', 'Round', '41\"', '3\"', '__', '__', '16\"', 'Polyethylene', 'Outdoor', '__', '__', '__', 'Black, Orange, Red, White, Yellow', '9197T28', '40.85', 'Solid'], ['B', 'Square', '48\"', '__', '5\"', '5\"', '14\"', 'Polyethylene', 'Outdoor', '4', '3/8\"', 'Fasteners Not Included', 'Yellow', '9197T11', '117.28', 'Solid'], ['A', 'Round', '33\"', '2\"', '__', '__', '14\"', 'Polyethylene', 'Outdoor', '__', '__', '__', 'Black', '9197T32', '41.05', 'Solid with White Ball Top'], ['A', 'Round', '41\"', '2\"', '__', '__', '14\"', 'Polyethylene', 'Outdoor', '__', '__', '__', 'Black', '9197T31', '42.59', 'Solid with White Ball Top'], ['C', 'Round', '27\"', '2\"', '__', '__', '__', 'Polyethylene', 'Outdoor', '__', '__', '__', 'Black', '9197T29', '12.79', 'Solid with White Ball Top'], ['A', 'Round', '41\"', '2\"', '__', '__', '14\"', 'Polyethylene', 'Outdoor', '__', '__', '__', 'Black/Yellow', '9197T33', '63.49', 'Striped'], ['A', 'Round', '41\"', '3\"', '__', '__', '16\"', 'Polyethylene', 'Outdoor', '__', '__', '__', 'Black/Yellow, Magenta/Yellow, Orange/Silver', '9197T142', '60.58', 'Striped']]\n",
      "{'title-1': ['Inside Link', 'Inside Link', '', '', '', '', '', '', '', ''], 'title-0': ['Lg.', 'Wd.', 'Link\\nDia.', 'Chain\\nTrade Size', 'Material', 'Environment', 'Choose a Color', 'Lengths, ft.', ' ', 'Per Ft.']}\n",
      "[['1/2\"', '3/16\"', '1/8\"', '__', 'Polyethylene', 'Outdoor', 'Black, Blue, Green, Orange, Red, White, Yellow', '10, 25, 50, 100, 200, 500', '8953T9', '$0.84', 'Solid'], ['3/4\"', '3/8\"', '5/32\"', '4', 'Polyethylene', 'Outdoor', 'Black, Blue, Green, Orange, Red, White, Yellow', '10, 25, 50, 100, 200, 500', '8953T8', '.96', 'Solid'], ['1 1/16\"', '3/8\"', '3/16\"', '6', 'Polyethylene', 'Outdoor', 'Black, Blue, Green, Orange, Red, White, Yellow', '10, 25, 50, 100, 200, 500', '8953T1', '1.07', 'Solid'], ['1 3/8\"', '11/16\"', '1/4\"', '8', 'Polyethylene', 'Outdoor', 'Black, Blue, Green, Orange, Red, White, Yellow', '10, 25, 50, 100, 200, 500', '8953T6', '1.31', 'Solid'], ['2 1/16\"', '7/8\"', '3/8\"', '10', 'Polyethylene', 'Outdoor', 'Black, Blue, Green, Orange, Red, White, Yellow', '10, 25, 50, 100, 200', '8953T3', '1.85', 'Solid'], ['2 11/16\"', '1 1/8\"', '1/2\"', '12', 'Polyethylene', 'Outdoor', 'Black, Blue, Green, Orange, Red, White, Yellow', '10, 25, 50, 100', '8953T33', '7.80', 'Solid'], ['1 3/8\"', '11/16\"', '1/4\"', '8', 'Polyethylene', 'Outdoor', 'Black/White, Black/Yellow, Magenta/Yellow, Red/White', '50, 100', '8953T4', '2.04', 'Striped']]\n"
     ]
    },
    {
     "name": "stderr",
     "output_type": "stream",
     "text": [
      "\u001b[32m2023-10-22 00:40:26.724\u001b[0m | \u001b[1mINFO    \u001b[0m | \u001b[36m__main__\u001b[0m:\u001b[36mget_cache\u001b[0m:\u001b[36m45\u001b[0m - \u001b[1mCaching => https://www.mcmaster.com/products/chain/chain-slings-with-latching-hooks/\u001b[0m\n"
     ]
    },
    {
     "name": "stdout",
     "output_type": "stream",
     "text": [
      "{'title-0': ['For Post\\nDia.', 'Choose a Color', ' ', 'Each']}\n",
      "[['2\"', 'Black, Orange, Red, White, Yellow', '9197T15', '$1.80', 'Hook Connector'], ['3\"', 'Black, Orange, Red, White, Yellow', '9197T18', '3.21', 'Hook Connector'], ['2\"', 'Black, Orange, Red, White, Yellow', '9197T6', '4.87', 'Ball Top'], ['3\"', 'Black, Orange, Red, White, Yellow', '9197T24', '7.04', 'Ball Top'], ['2\"', 'Black, Orange, Red, White, Yellow', '9197T5', '22.03', 'Base'], ['3\"', 'Black, Orange, Red, White, Yellow', '9197T25', '42.64', 'Base']]\n",
      "{'family_url': 'https://www.mcmaster.com/products/pulling-and-lifting/', 'family_name': 'Pulling and Lifting', 'category_url': 'https://www.mcmaster.com/products/chain/', 'category_name': 'Chain'} https://www.mcmaster.com/products/chain/chain-slings-with-latching-hooks/\n"
     ]
    },
    {
     "name": "stderr",
     "output_type": "stream",
     "text": [
      "\u001b[32m2023-10-22 00:40:33.304\u001b[0m | \u001b[1mINFO    \u001b[0m | \u001b[36m__main__\u001b[0m:\u001b[36mget_cache\u001b[0m:\u001b[36m45\u001b[0m - \u001b[1mCaching => https://www.mcmaster.com/products/chain/trolley-chain-for-overhead-enclosed-track-powered-conveyors/\u001b[0m\n"
     ]
    },
    {
     "name": "stdout",
     "output_type": "stream",
     "text": [
      "{'title-1': ['', 'Capacity, lbs.', 'Capacity, lbs.', 'Capacity, lbs.', '', 'Hook', 'Hook', 'Hook', 'Eye', 'Eye', 'Eye', '', '', '', '', '', '', '', ''], 'title-0': ['Straight-Link\\nChain Trade\\nSize', 'at 30°', 'at 45°', 'at 60°', 'Vertical\\nCapacity,\\nlbs.', 'Opening\\nWd.', 'Usable\\nLg.', 'Wd.', 'Lg.', 'Wd.', 'Thick.', 'Specifications\\nMet', 'Other\\nLengths,\\nft.', ' ', '2 ft.\\nLg.', '3 ft.\\nLg.', '6 ft.\\nLg.', '8 ft.\\nLg.', '10\\nft.\\nLg.']}\n",
      "[['9/32', '__', '__', '__', '3,500', '7/8\"', '3 3/4\"', '3/4\"', '5\"', '2 1/2\"', '9/16\"', 'OSHA Compliant 29 CFR 1910.184, ASME B30.9', '2 to 20', '3405T27', '$161.28', '$165.89', '$179.70', '$188.91', '$198.11', '1 Leg'], ['3/8', '__', '__', '__', '7,100', '1 1/8\"', '4 5/8\"', '1\"', '5 1/2\"', '2 3/4\"', '3/4\"', 'OSHA Compliant 29 CFR 1910.184, ASME B30.9', '2 to 20', '3405T28', '204.64', '211.77', '233.17', '247.43', '261.70', '1 Leg'], ['1/2', '__', '__', '__', '12,000', '1 3/8\"', '5 5/8\"', '1 3/8\"', '7\"', '3 1/2\"', '1\"', 'OSHA Compliant 29 CFR 1910.184, ASME B30.9', '2 to 20', '3405T29', '295.11', '306.40', '340.25', '362.81', '385.38', '1 Leg'], ['5/8', '__', '__', '__', '18,100', '1 3/4\"', '6 1/2\"', '1 1/2\"', '7\"', '3 1/2\"', '1\"', 'OSHA Compliant 29 CFR 1910.184, ASME B30.9', '2 to 20', '3405T32', '403.89', '420.79', '471.51', '505.32', '539.13', '1 Leg'], ['7/32', '2,100', '3,000', '3,600', '__', '1\"', '3 1/2\"', '5/8\"', '3\"', '1 1/2\"', '7/16\"', 'OSHA Compliant 29 CFR 1910.184, ASME B30.9', '2 to 20', '3406T35', '313.37', '323.60', '354.30', '374.77', '395.23', '2 Leg'], ['9/32', '3,500', '4,900', '6,100', '__', '7/8\"', '3 3/4\"', '3/4\"', '5\"', '2 1/2\"', '9/16\"', 'OSHA Compliant 29 CFR 1910.184, ASME B30.9', '2 to 20', '3406T19', '256.34', '269.87', '307.68', '326.09', '344.51', '2 Leg'], ['3/8', '7,100', '10,000', '12,300', '__', '1 1/8\"', '4 5/8\"', '1\"', '5 1/2\"', '2 3/4\"', '3/4\"', 'OSHA Compliant 29 CFR 1910.184, ASME B30.9', '2 to 20', '3406T21', '355.85', '370.11', '412.91', '441.43', '469.96', '2 Leg'], ['1/2', '12,000', '17,000', '20,800', '__', '1 3/8\"', '5 5/8\"', '1 3/8\"', '7\"', '3 1/2\"', '1\"', 'OSHA Compliant 29 CFR 1910.184, ASME B30.9', '2 to 20', '3406T22', '497.04', '519.60', '587.30', '632.43', '677.57', '2 Leg'], ['5/8', '18,100', '25,600', '31,300', '__', '1 3/4\"', '6 1/2\"', '1 1/2\"', '8 3/4\"', '4 3/8\"', '1 1/4\"', 'OSHA Compliant 29 CFR 1910.184, ASME B30.9', '2 to 20', '3406T28', '760.32', '794.21', '895.87', '963.64', '1,031.42', '2 Leg'], ['9/32', '5,200', '7,400', '9,100', '__', '7/8\"', '3 3/4\"', '3/4\"', '5 1/2\"', '2 3/4\"', '3/4\"', 'OSHA Compliant 29 CFR 1910.184, ASME B30.9', '2 to 20', '3408T14', '454.91', '484.23', '553.08', '580.70', '608.32', '3 Leg'], ['3/8', '10,600', '15,100', '18,400', '__', '1 1/8\"', '4 5/8\"', '1\"', '7\"', '3 1/2\"', '1\"', 'OSHA Compliant 29 CFR 1910.184, ASME B30.9', '2 to 20', '3408T15', '663.04', '684.43', '748.62', '791.42', '834.21', '3 Leg'], ['1/2', '18,000', '25,500', '31,200', '__', '1 3/8\"', '5 5/8\"', '1 3/8\"', '8 3/4\"', '4 3/8\"', '1 1/4\"', 'OSHA Compliant 29 CFR 1910.184, ASME B30.9', '2 to 20', '3408T24', '895.49', '929.34', '1,030.89', '1,098.58', '1,166.28', '3 Leg'], ['5/8', '27,100', '38,400', '47,000', '__', '1 3/4\"', '6 1/2\"', '1 1/2\"', '10 1/2\"', '5 1/4\"', '1 1/2\"', 'OSHA Compliant 29 CFR 1910.184, ASME B30.9', '2 to 20', '3408T25', '1,489.58', '1,540.42', '1,692.91', '1,794.57', '1,896.23', '3 Leg'], ['9/32', '5,200', '7,400', '9,100', '__', '7/8\"', '3 3/4\"', '3/4\"', '5 1/2\"', '2 3/4\"', '3/4\"', 'OSHA Compliant 29 CFR 1910.184, ASME B30.9', '2 to 20', '3409T19', '565.82', '593.36', '682.19', '719.02', '755.85', '4 Leg'], ['3/8', '10,600', '15,100', '18,400', '__', '1 1/8\"', '4 5/8\"', '1\"', '7\"', '3 1/2\"', '1\"', 'OSHA Compliant 29 CFR 1910.184, ASME B30.9', '2 to 20', '3409T28', '805.85', '834.38', '919.96', '977.02', '1,034.08', '4 Leg'], ['1/2', '18,000', '25,500', '31,200', '__', '1 3/8\"', '5 5/8\"', '1 3/8\"', '8 3/4\"', '4 3/8\"', '1 1/4\"', 'OSHA Compliant 29 CFR 1910.184, ASME B30.9', '2 to 20', '3409T29', '1,097.42', '1,142.55', '1,277.94', '1,368.21', '1,458.47', '4 Leg'], ['5/8', '27,100', '38,400', '47,000', '__', '1 3/4\"', '6 1/2\"', '1 1/2\"', '10 1/2\"', '5 1/4\"', '1 1/2\"', 'OSHA Compliant 29 CFR 1910.184, ASME B30.9', '3 to 20', '3409T31', '__', '1,865.83', '2,069.15', '2,204.70', '2,340.25', '4 Leg'], ['3/8', '__', '__', '__', '8,800', '1 1/4\"', '4 1/4\"', '1 1/4\"', '5 5/16\"', '3\"', '3/4\"', 'OSHA Compliant 29 CFR 1910.184, ASME B30.9', '2 to 20', '33945T702', '223.96', '236.75', '274.81', '300.25', '325.66', '1 Leg'], ['9/32', '4,300', '6,100', '7,400', '__', '1\"', '3 3/4\"', '1\"', '4 3/8\"', '2 3/8\"', '5/8\"', 'OSHA Compliant 29 CFR 1910.184, ASME B30.9', '2 to 20', '33945T705', '234.51', '252.77', '307.68', '378.13', '380.08', '2 Leg'], ['3/8', '8,800', '12,400', '15,200', '__', '1 1/4\"', '4 1/4\"', '1 1/4\"', '6 5/16\"', '3 9/16\"', '15/16\"', 'OSHA Compliant 29 CFR 1910.184, ASME B30.9', '2 to 20', '33945T708', '393.85', '419.23', '495.36', '546.25', '597.06', '2 Leg'], ['9/32', '6,400', '9,100', '11,200', '__', '1\"', '3 3/4\"', '1\"', '6 5/16\"', '3 9/16\"', '15/16\"', 'OSHA Compliant 29 CFR 1910.184, ASME B30.9', '2 to 20', '3500T32', '423.49', '450.70', '531.98', '586.23', '640.49', '3 Leg'], ['3/8', '13,200', '18,700', '22,900', '__', '1 1/4\"', '4 1/4\"', '1 1/4\"', '7 1/8\"', '4\"', '1 1/16\"', 'OSHA Compliant 29 CFR 1910.184, ASME B30.9', '2 to 20', '3500T35', '707.70', '745.43', '858.64', '934.25', '1,009.72', '3 Leg'], ['9/32', '6,400', '9,100', '11,200', '__', '1\"', '3 3/4\"', '1\"', '6 5/16\"', '3 9/16\"', '15/16\"', 'OSHA Compliant 29 CFR 1910.184, ASME B30.9', '2 to 20', '3446T56', '531.15', '567.28', '675.32', '747.53', '819.58', '4 Leg'], ['3/8', '13,200', '18,700', '22,900', '__', '1 1/4\"', '4 1/4\"', '1 1/4\"', '7 1/8\"', '4\"', '1 1/16\"', 'OSHA Compliant 29 CFR 1910.184, ASME B30.9', '2 to 20', '3446T59', '897.79', '948.32', '1,099.75', '1,200.66', '1,301.51', '4 Leg'], ['9/32', '2,700', '3,800', '4,600', '__', '1\"', '3 3/4\"', '1\"', '4 3/8\"', '2 3/8\"', '11/16\"', '__', '__', '33675T641', '859.84', '893.82', '995.60', '1,063.50', '1,131.48', '2 Leg'], ['3/8', '5,500', '7,700', '9,300', '__', '1 1/4\"', '4 1/4\"', '1 1/4\"', '6 5/16\"', '3 9/16\"', '15/16\"', '__', '2 to 20', '33675T35', '1,374.27', '1,435.62', '1,620.23', '1,743.13', '1,866.22', '2 Leg'], ['9/32', '4,000', '5,700', '7,000', '__', '1\"', '3 3/4\"', '1\"', '4 3/8\"', '2 3/8\"', '11/16\"', '__', '2 to 20', '33675T37', '1,378.15', '1,428.97', '1,580.82', '1,682.17', '1,783.53', '3 Leg'], ['3/8', '8,200', '11,500', '14,300', '__', '1 1/4\"', '4 1/4\"', '1 1/4\"', '6 5/16\"', '3 9/16\"', '15/16\"', '__', '2 to 20', '33675T647', '2,050.00', '2,142.15', '2,418.01', '2,602.51', '2,786.63', '3 Leg'], ['9/32', '4,000', '5,700', '7,000', '__', '1\"', '3 3/4\"', '1\"', '4 3/8\"', '2 3/8\"', '11/16\"', '__', '2 to 20', '33675T36', '1,682.80', '1,750.47', '1,952.99', '2,088.16', '2,222.94', '4 Leg'], ['3/8', '8,200', '11,500', '14,300', '__', '1 1/4\"', '4 1/4\"', '1 1/4\"', '6 5/16\"', '3 9/16\"', '15/16\"', '__', '2 to 20', '33675T654', '2,612.18', '2,734.48', '3,102.09', '3,346.88', '3,591.66', '4 Leg']]\n",
      "{'title-0': ['For Straight-Link\\nChain Trade Size', ' ', 'Each']}\n",
      "[['7/32', '1771N121', '$12.06'], ['9/32', '1771N118', '10.23'], ['3/8', '1771N119', '17.22'], ['1/2', '1771N12', '28.99'], ['5/8', '1771N122', '41.79']]\n",
      "{'family_url': 'https://www.mcmaster.com/products/pulling-and-lifting/', 'family_name': 'Pulling and Lifting', 'category_url': 'https://www.mcmaster.com/products/chain/', 'category_name': 'Chain'} https://www.mcmaster.com/products/chain/trolley-chain-for-overhead-enclosed-track-powered-conveyors/\n"
     ]
    },
    {
     "name": "stderr",
     "output_type": "stream",
     "text": [
      "\u001b[32m2023-10-22 00:40:37.150\u001b[0m | \u001b[1mINFO    \u001b[0m | \u001b[36m__main__\u001b[0m:\u001b[36mget_cache\u001b[0m:\u001b[36m45\u001b[0m - \u001b[1mCaching => https://www.mcmaster.com/products/chain/conveyor-chain-belting-5/\u001b[0m\n"
     ]
    },
    {
     "name": "stdout",
     "output_type": "stream",
     "text": [
      "{'title-0': ['Lg.,\\nft.', 'Cap. per Attachment\\nPoint, lbs.', 'Vertical Wheel\\nSpacing', 'Material', 'Connecting\\nPin Material', 'Max.\\nTemp., °F', ' ', 'Each']}\n",
      "[['', '', '', '', '', '', '', ''], ['20', '125', '8\"', 'Steel', 'Steel', '450°', '5927K34', '$889.11'], ['', '', ''], ['20 Feet Long Trolley Chain for Powered Overhead Enclosed-Track Conveyor\\nEach\\nADD TO ORDER\\nIn stock\\nProduct Detail\\n3-D Solidworks\\nDownload']]\n",
      "{'family_url': 'https://www.mcmaster.com/products/pulling-and-lifting/', 'family_name': 'Pulling and Lifting', 'category_url': 'https://www.mcmaster.com/products/chain/', 'category_name': 'Chain'} https://www.mcmaster.com/products/chain/conveyor-chain-belting-5/\n",
      "{'title-0': ['Belt Wd.', 'Lg.,\\nft.', 'Wd.', 'Thick.', 'Material', 'Color', 'Magnetic\\nProperties', 'Pin Material', 'Temp.\\nRange, °F', ' ', 'Each']}\n",
      "[['3 1/4\"', '10', '1 5/8\"', '5/32\"', 'Acetal Plastic', 'Brown', '__', 'Stainless Steel', '-40° to 190°', '6378K21', '$126.04', '820 Series'], ['4\"', '10', '1 5/8\"', '5/32\"', 'Acetal Plastic', 'Brown', '__', 'Stainless Steel', '-40° to 190°', '6378K22', '164.15', '820 Series'], ['4 1/2\"', '10', '1 5/8\"', '5/32\"', 'Acetal Plastic', 'Brown', '__', 'Stainless Steel', '-40° to 190°', '6378K23', '157.93', '820 Series'], ['6\"', '10', '1 5/8\"', '5/32\"', 'Acetal Plastic', 'Brown', '__', 'Stainless Steel', '-40° to 190°', '6378K24', '227.52', '820 Series'], ['7 1/2\"', '10', '1 5/8\"', '5/32\"', 'Acetal Plastic', 'Brown', '__', 'Stainless Steel', '-40° to 190°', '6378K25', '235.01', '820 Series'], ['7 1/2\"', '10', '5 3/8\"', '3/16\"', 'Acetal Plastic', 'Brown', '__', 'Stainless Steel', '-40° to 190°', '6378K61', '250.66', '821 Series'], ['10\"', '10', '5 3/8\"', '3/16\"', 'Acetal Plastic', 'Brown', '__', 'Stainless Steel', '-40° to 190°', '6378K62', '318.38', '821 Series'], ['12\"', '10', '5 3/8\"', '3/16\"', 'Acetal Plastic', 'Brown', '__', 'Stainless Steel', '-40° to 190°', '6378K63', '337.27', '821 Series'], ['2 1/4\"', '20', '2 1/4\"', '13/16\"', 'Acetal Plastic', 'Gray', '__', 'Stainless Steel', '-40° to 190°', '1948N11', '450.37', '3200 Series'], ['4 1/2\"', '10', '1 3/4\"', '1/8\"', 'Steel', 'Black', 'Magnetic', 'Steel', '-95° to 930°', '1358N12', '340.74', '810 Series'], ['6\"', '10', '1 3/4\"', '1/8\"', 'Steel', 'Black', 'Magnetic', 'Steel', '-95° to 930°', '1358N13', '409.82', '810 Series'], ['7 1/2\"', '10', '1 3/4\"', '1/8\"', 'Steel', 'Black', 'Magnetic', 'Steel', '-95° to 930°', '1358N14', '491.34', '810 Series'], ['3 1/4\"', '10', '1 21/32\"', '1/8\"', 'Stainless Steel', '__', 'Nonmagnetic', 'Stainless Steel', '-90° to 805°', '6378K51', '328.19', '815 Series'], ['4 1/2\"', '10', '1 21/32\"', '1/8\"', 'Stainless Steel', '__', 'Nonmagnetic', 'Stainless Steel', '-90° to 805°', '6378K52', '483.14', '815 Series'], ['6\"', '10', '1 21/32\"', '1/8\"', 'Stainless Steel', '__', 'Nonmagnetic', 'Stainless Steel', '-90° to 805°', '6378K53', '618.58', '815 Series'], ['7 1/2\"', '10', '1 21/32\"', '1/8\"', 'Stainless Steel', '__', 'Nonmagnetic', 'Stainless Steel', '-90° to 805°', '6378K54', '732.52', '815 Series']]\n"
     ]
    },
    {
     "name": "stderr",
     "output_type": "stream",
     "text": [
      "\u001b[32m2023-10-22 00:40:42.447\u001b[0m | \u001b[1mINFO    \u001b[0m | \u001b[36m__main__\u001b[0m:\u001b[36mget_cache\u001b[0m:\u001b[36m45\u001b[0m - \u001b[1mCaching => https://www.mcmaster.com/products/chain/build-your-own-conveyor-guides/\u001b[0m\n"
     ]
    },
    {
     "name": "stdout",
     "output_type": "stream",
     "text": [
      "{'title-0': ['Belt Wd.', 'Lg.,\\nft.', 'Wd.', 'Ht.', 'Thick.', 'Min. Curve\\nRadius', 'Material', 'Color', 'Pin Material', 'Temp.\\nRange, °F', ' ', 'Each']}\n",
      "[['3 1/4\"', '10', '2 7/16\"', '15/32\"', '5/32\"', '15 3/4\"', 'Acetal Plastic', 'Brown', 'Stainless Steel', '-40° to 190°', '6378K31', '$149.74', '880 Series'], ['4 1/2\"', '10', '2 7/16\"', '15/32\"', '5/32\"', '15 3/4\"', 'Acetal Plastic', 'Brown', 'Stainless Steel', '-40° to 190°', '6378K32', '154.34', '880 Series'], ['7 1/2\"', '10', '2 7/16\"', '15/32\"', '5/32\"', '15 3/4\"', 'Acetal Plastic', 'Brown', 'Stainless Steel', '-40° to 190°', '6378K37', '277.92', '880 Series'], ['4 1/2\"', '10', '3\"', '11/16\"', '3/16\"', '24\"', 'Acetal Plastic', 'Brown', 'Stainless Steel', '-40° to 190°', '6378K36', '297.98', '882 Series'], ['7 1/2\"', '10', '3\"', '11/16\"', '3/16\"', '24\"', 'Acetal Plastic', 'Brown', 'Stainless Steel', '-40° to 190°', '6378K33', '319.37', '882 Series'], ['10\"', '10', '3\"', '11/16\"', '3/16\"', '24\"', 'Acetal Plastic', 'Brown', 'Stainless Steel', '-40° to 190°', '6378K34', '362.93', '882 Series'], ['12\"', '10', '3\"', '11/16\"', '3/16\"', '24\"', 'Acetal Plastic', 'Brown', 'Stainless Steel', '-40° to 190°', '6378K35', '381.33', '882 Series'], ['16\"', '10', '3\"', '11/16\"', '7/32\"', '27 1/2\"', 'Acetal Plastic', 'Brown', 'Stainless Steel', '-40° to 190°', '6378K38', '835.25', '882 Series'], ['2 1/4\"', '20', '2 11/32\"', '17/32\"', '__', '16\"', 'Acetal Plastic', 'Gray', 'Stainless Steel', '-40° to 190°', '1948N12', '450.37', '3200 Series']]\n",
      "{'family_url': 'https://www.mcmaster.com/products/pulling-and-lifting/', 'family_name': 'Pulling and Lifting', 'category_url': 'https://www.mcmaster.com/products/chain/', 'category_name': 'Chain'} https://www.mcmaster.com/products/chain/build-your-own-conveyor-guides/\n"
     ]
    },
    {
     "name": "stderr",
     "output_type": "stream",
     "text": [
      "\u001b[32m2023-10-22 00:40:46.228\u001b[0m | \u001b[1mINFO    \u001b[0m | \u001b[36m__main__\u001b[0m:\u001b[36mget_cache\u001b[0m:\u001b[36m45\u001b[0m - \u001b[1mCaching => https://www.mcmaster.com/products/chain/lay-in-snap-together-open-cable-and-hose-carriers/\u001b[0m\n"
     ]
    },
    {
     "name": "stdout",
     "output_type": "stream",
     "text": [
      "{'title-1': ['', '', 'Wear Strip', 'Wear Strip', '', '5 ft. Lg.', '5 ft. Lg.', '8 ft. Lg.', '8 ft. Lg.', '10 ft. Lg.', '10 ft. Lg.'], 'title-0': ['Style', 'Overall\\nHt.', 'Profile', 'Color', 'Max.\\nTemp., °F', ' ', 'Each', ' ', 'Each', ' ', 'Each']}\n",
      "[['C', '13/16\"', 'Curved', 'White', '175°', '9269K24', '$13.57', '9269K41', '$21.71', '9269K39', '$38.00', 'UHMW Polyethylene Plastic'], ['D', '13/16\"', 'Flat', 'White', '175°', '9269K23', '15.29', '9269K46', '23.31', '9269K43', '38.00', 'UHMW Polyethylene Plastic'], ['D', '1\"', 'Flat', 'White', '175°', '9269K25', '19.00', '9269K35', '30.40', '9269K36', '48.29', 'UHMW Polyethylene Plastic'], ['E', '2 1/8\"', 'Flat', 'White', '175°', '9269K27', '27.43', '9269K37', '45.26', '9269K38', '76.57', 'UHMW Polyethylene Plastic']]\n",
      "{'family_url': 'https://www.mcmaster.com/products/pulling-and-lifting/', 'family_name': 'Pulling and Lifting', 'category_url': 'https://www.mcmaster.com/products/chain/', 'category_name': 'Chain'} https://www.mcmaster.com/products/chain/lay-in-snap-together-open-cable-and-hose-carriers/\n"
     ]
    },
    {
     "name": "stderr",
     "output_type": "stream",
     "text": [
      "\u001b[32m2023-10-22 00:40:53.738\u001b[0m | \u001b[1mINFO    \u001b[0m | \u001b[36m__main__\u001b[0m:\u001b[36mget_cache\u001b[0m:\u001b[36m45\u001b[0m - \u001b[1mCaching => https://www.mcmaster.com/products/chain/chain-pull-cords/\u001b[0m\n"
     ]
    },
    {
     "name": "stdout",
     "output_type": "stream",
     "text": [
      "{'title-2': ['Carriers', 'Carriers', 'Carriers', 'Carriers', 'Carriers', 'Carriers', 'Carriers', 'Carriers', 'Carriers', 'Carriers', 'Carriers', 'Carriers', 'Carriers', 'Carriers', '', ''], 'title-1': ['', '', '', '', '', 'Loop', 'Loop', '', '', '', '', '', '', '', 'Mounting\\nBrackets', 'Mounting\\nBrackets'], 'title-0': ['For Max.\\nCable OD', 'For Total\\nCable Wd.', 'Ht.', 'Wd.', 'Bend\\nRadius', 'Ht.', 'Lg.,\\nft.', 'Material', 'Color', 'Temperature\\nRange, ° F', 'Mounting\\nHardware Included', 'Length', ' ', 'Per Ft.', ' ', 'Pair']}\n",
      "[['0.2\"', '0.2\"', '0.6\"', '0.5\"', '1.1\"', '2.8\"', '0.4', 'Nylon', 'Black', '-40° to 245°', 'No', '1 ft., 3 ft., 6 ft.', '4409T21', '$16.95', '4556T31', '$7.72'], ['0.3\"', '0.3\"', '0.6\"', '0.7\"', '1.1\"', '2.8\"', '0.4', 'Nylon', 'Black', '-40° to 245°', 'No', '1 ft., 3 ft., 6 ft.', '4409T22', '18.49', '4556T32', '8.67'], ['0.3\"', '0.3\"', '0.8\"', '0.7\"', '1.5\"', '3.7\"', '0.5', 'Nylon', 'Black', '-40° to 245°', 'No', '1 ft., 3 ft., 6 ft.', '4409T28', '21.53', '4556T38', '10.02'], ['0.3\"', '0.5\"', '0.6\"', '0.9\"', '1.1\"', '2.8\"', '0.4', 'Nylon', 'Black', '-40° to 245°', 'No', '1 ft., 3 ft., 6 ft.', '4409T23', '18.69', '4556T33', '9.66'], ['0.3\"', '0.6\"', '0.6\"', '1.1\"', '1.1\"', '2.8\"', '0.4', 'Nylon', 'Black', '-40° to 245°', 'No', '1 ft., 3 ft., 6 ft.', '4409T24', '18.98', '4556T34', '10.95'], ['0.3\"', '0.9\"', '0.6\"', '1.5\"', '1.1\"', '2.8\"', '0.4', 'Nylon', 'Black', '-40° to 245°', 'No', '1 ft., 3 ft., 6 ft.', '4409T25', '22.05', '4556T35', '11.96'], ['0.3\"', '1.3\"', '0.6\"', '1.9\"', '1.1\"', '2.8\"', '0.4', 'Nylon', 'Black', '-40° to 245°', 'No', '1 ft., 3 ft., 6 ft.', '4409T26', '22.51', '4556T36', '12.74'], ['0.3\"', '1.6\"', '0.6\"', '2.3\"', '1.1\"', '2.8\"', '0.4', 'Nylon', 'Black', '-40° to 245°', 'No', '1 ft., 3 ft., 6 ft.', '4409T27', '23.27', '4556T37', '13.54'], ['0.5\"', '0.5\"', '0.8\"', '0.9\"', '1.5\"', '3.7\"', '0.5', 'Nylon', 'Black', '-40° to 245°', 'No', '1 ft., 3 ft., 6 ft.', '4409T29', '21.77', '4556T39', '11.28'], ['0.5\"', '0.5\"', '0.9\"', '1\"', '1.5\"', '3.9\"', '0.6', 'Nylon', 'Black', '-40° to 245°', 'No', '1 ft., 3 ft., 6 ft.', '4409T35', '23.37', '55835K121', '11.67'], ['0.5\"', '0.6\"', '0.8\"', '1.1\"', '1.5\"', '3.7\"', '0.5', 'Nylon', 'Black', '-40° to 245°', 'No', '1 ft., 3 ft., 6 ft.', '4409T31', '22.07', '4556T41', '12.54'], ['0.5\"', '0.9\"', '0.8\"', '1.5\"', '1.5\"', '3.7\"', '0.5', 'Nylon', 'Black', '-40° to 245°', 'No', '1 ft., 3 ft., 6 ft.', '4409T32', '25.12', '4556T42', '13.54'], ['0.5\"', '1.3\"', '0.8\"', '1.9\"', '1.5\"', '3.7\"', '0.5', 'Nylon', 'Black', '-40° to 245°', 'No', '1 ft., 3 ft., 6 ft.', '4409T33', '25.60', '4556T43', '14.35'], ['0.5\"', '1.6\"', '0.8\"', '2.3\"', '1.5\"', '3.7\"', '0.5', 'Nylon', 'Black', '-40° to 245°', 'No', '1 ft., 3 ft., 6 ft.', '4409T34', '26.37', '4556T44', '15.14'], ['0.6\"', '0.8\"', '0.9\"', '1.4\"', '1.5\"', '3.9\"', '0.6', 'Nylon', 'Black', '-40° to 245°', 'No', '1 ft., 3 ft., 6 ft.', '4409T36', '23.98', '55835K122', '11.67'], ['0.6\"', '1.2\"', '0.9\"', '1.9\"', '1.5\"', '3.9\"', '0.6', 'Nylon', 'Black', '-40° to 245°', 'No', '1 ft., 3 ft., 6 ft.', '4409T37', '25.30', '55835K123', '11.67'], ['0.6\"', '1.6\"', '0.9\"', '2.4\"', '1.5\"', '3.9\"', '0.6', 'Nylon', 'Black', '-40° to 245°', 'No', '1 ft., 3 ft., 6 ft.', '4409T38', '26.63', '55835K124', '11.67'], ['0.9\"', '1.2\"', '1.4\"', '2.1\"', '2.2\"', '5.7\"', '0.9', 'Nylon', 'Black', '-40° to 245°', 'No', '1 ft., 3 ft., 6 ft.', '4409T51', '21.49', '4556T82', '13.07'], ['0.9\"', '1.2\"', '1.4\"', '2.1\"', '3.9\"', '9.3\"', '1.4', 'Nylon', 'Black', '-40° to 245°', 'No', '1 ft., 3 ft., 6 ft.', '4409T52', '21.49', '4556T82', '13.07'], ['0.9\"', '1.2\"', '1.4\"', '2.1\"', '4.9\"', '11.2\"', '1.6', 'Nylon', 'Black', '-40° to 245°', 'No', '1 ft., 3 ft., 6 ft.', '4409T53', '21.49', '4556T82', '13.07'], ['0.9\"', '1.8\"', '1.4\"', '2.9\"', '2.2\"', '5.7\"', '0.9', 'Nylon', 'Black', '-40° to 245°', 'No', '1 ft., 3 ft., 6 ft.', '4409T54', '23.47', '4556T83', '13.07'], ['0.9\"', '1.8\"', '1.4\"', '2.9\"', '3.9\"', '9.3\"', '1.4', 'Nylon', 'Black', '-40° to 245°', 'No', '1 ft., 3 ft., 6 ft.', '4409T55', '23.47', '4556T83', '13.07'], ['0.9\"', '1.8\"', '1.4\"', '2.9\"', '4.9\"', '11.2\"', '1.6', 'Nylon', 'Black', '-40° to 245°', 'No', '1 ft., 3 ft., 6 ft.', '4409T56', '23.47', '4556T83', '13.07'], ['0.9\"', '2.4\"', '1.4\"', '3.7\"', '2.2\"', '5.7\"', '0.9', 'Nylon', 'Black', '-40° to 245°', 'No', '1 ft., 3 ft., 6 ft.', '4409T57', '25.60', '4556T84', '13.07'], ['0.9\"', '2.4\"', '1.4\"', '3.7\"', '3.9\"', '9.3\"', '1.4', 'Nylon', 'Black', '-40° to 245°', 'No', '1 ft., 3 ft., 6 ft.', '4409T58', '25.60', '4556T84', '13.07'], ['0.9\"', '2.4\"', '1.4\"', '3.7\"', '4.9\"', '11.2\"', '1.6', 'Nylon', 'Black', '-40° to 245°', 'No', '1 ft., 3 ft., 6 ft.', '4409T59', '25.60', '4556T84', '13.07'], ['0.9\"', '3.3\"', '1.4\"', '4.7\"', '2.2\"', '5.7\"', '0.9', 'Nylon', 'Black', '-40° to 245°', 'No', '1 ft., 3 ft., 6 ft.', '4409T61', '30.43', '4556T85', '13.07'], ['0.9\"', '3.3\"', '1.4\"', '4.7\"', '3.9\"', '9.3\"', '1.4', 'Nylon', 'Black', '-40° to 245°', 'No', '1 ft., 3 ft., 6 ft.', '4409T62', '30.43', '4556T85', '13.07'], ['0.9\"', '3.3\"', '1.4\"', '4.7\"', '4.9\"', '11.2\"', '1.6', 'Nylon', 'Black', '-40° to 245°', 'No', '1 ft., 3 ft., 6 ft.', '4409T63', '30.43', '4556T85', '13.07'], ['1.3\"', '1.6\"', '2\"', '2.6\"', '2.5\"', '7.1\"', '1.1', 'Nylon', 'Black', '-40° to 245°', 'No', '1 ft., 3 ft., 6 ft.', '4409T64', '35.07', '4556T65', '17.30'], ['1.3\"', '1.6\"', '2\"', '2.6\"', '3.9\"', '9.8\"', '1.6', 'Nylon', 'Black', '-40° to 245°', 'No', '1 ft., 3 ft., 6 ft.', '4409T65', '35.07', '4556T65', '17.30'], ['1.3\"', '1.6\"', '2\"', '2.6\"', '5.9\"', '13.8\"', '2.1', 'Nylon', 'Black', '-40° to 245°', 'No', '1 ft., 3 ft., 6 ft.', '4409T66', '35.07', '4556T65', '17.30'], ['1.3\"', '2.4\"', '2\"', '3.6\"', '2.5\"', '7.1\"', '1.1', 'Nylon', 'Black', '-40° to 245°', 'No', '1 ft., 3 ft., 6 ft.', '4409T67', '35.58', '4556T66', '17.30'], ['1.3\"', '2.4\"', '2\"', '3.6\"', '3.9\"', '9.8\"', '1.6', 'Nylon', 'Black', '-40° to 245°', 'No', '1 ft., 3 ft., 6 ft.', '4409T68', '35.58', '4556T66', '17.30'], ['1.3\"', '2.4\"', '2\"', '3.6\"', '5.9\"', '13.8\"', '2.1', 'Nylon', 'Black', '-40° to 245°', 'No', '1 ft., 3 ft., 6 ft.', '4409T69', '35.58', '4556T66', '17.30'], ['1.3\"', '3.2\"', '2\"', '4.6\"', '2.5\"', '7.1\"', '1.1', 'Nylon', 'Black', '-40° to 245°', 'No', '1 ft., 3 ft., 6 ft.', '4409T71', '36.65', '4556T67', '17.30'], ['1.3\"', '3.2\"', '2\"', '4.6\"', '3.9\"', '9.8\"', '1.6', 'Nylon', 'Black', '-40° to 245°', 'No', '1 ft., 3 ft., 6 ft.', '4409T72', '36.65', '4556T67', '17.30'], ['1.3\"', '3.2\"', '2\"', '4.6\"', '5.9\"', '13.8\"', '2.1', 'Nylon', 'Black', '-40° to 245°', 'No', '1 ft., 3 ft., 6 ft.', '4409T73', '36.65', '4556T67', '17.30'], ['1.5\"', '4.7\"', '2.5\"', '7\"', '5.9\"', '14.4\"', '2', 'Nylon', 'Black', '-40° to 245°', 'No', '1 ft., 5 ft.', '4617T31', '57.70', '4617T71', '34.45'], ['1.5\"', '4.7\"', '2.5\"', '7\"', '7.9\"', '18.3\"', '2.5', 'Nylon', 'Black', '-40° to 245°', 'No', '1 ft., 5 ft.', '4617T32', '57.70', '4617T71', '34.45'], ['1.7\"', '2.4\"', '2.5\"', '3.7\"', '3.9\"', '10.4\"', '1.6', 'Nylon', 'Black', '-40° to 245°', 'No', '1 ft., 3 ft., 6 ft.', '4409T74', '36.76', '4556T68', '22.13'], ['1.7\"', '2.4\"', '2.5\"', '3.7\"', '5.9\"', '14.4\"', '2.4', 'Nylon', 'Black', '-40° to 245°', 'No', '1 ft., 3 ft., 6 ft.', '4409T75', '36.76', '4556T68', '22.13'], ['1.7\"', '2.4\"', '2.5\"', '3.7\"', '7.9\"', '18.3\"', '3', 'Nylon', 'Black', '-40° to 245°', 'No', '1 ft., 3 ft., 6 ft.', '4409T76', '36.76', '4556T68', '22.13'], ['1.7\"', '3.6\"', '2.5\"', '5.3\"', '3.9\"', '10.4\"', '1.6', 'Nylon', 'Black', '-40° to 245°', 'No', '1 ft., 3 ft., 6 ft.', '4409T77', '39.37', '4556T69', '22.13'], ['1.7\"', '3.6\"', '2.5\"', '5.3\"', '5.9\"', '14.4\"', '2.4', 'Nylon', 'Black', '-40° to 245°', 'No', '1 ft., 3 ft., 6 ft.', '4409T78', '39.37', '4556T69', '22.13'], ['1.7\"', '3.6\"', '2.5\"', '5.3\"', '7.9\"', '18.3\"', '3', 'Nylon', 'Black', '-40° to 245°', 'No', '1 ft., 3 ft., 6 ft.', '4409T79', '39.37', '4556T69', '22.13'], ['1.7\"', '5.5\"', '2.5\"', '7.7\"', '3.9\"', '10.4\"', '1.6', 'Nylon', 'Black', '-40° to 245°', 'No', '1 ft., 3 ft., 6 ft.', '4409T81', '52.26', '4556T71', '22.13'], ['1.7\"', '5.5\"', '2.5\"', '7.7\"', '5.9\"', '14.4\"', '2.4', 'Nylon', 'Black', '-40° to 245°', 'No', '1 ft., 3 ft., 6 ft.', '4409T82', '52.26', '4556T71', '22.13'], ['1.7\"', '5.5\"', '2.5\"', '7.7\"', '7.9\"', '18.3\"', '3', 'Nylon', 'Black', '-40° to 245°', 'No', '1 ft., 3 ft., 6 ft.', '4409T83', '52.26', '4556T71', '22.13'], ['2\"', '4.7\"', '3.3\"', '7.3\"', '5.9\"', '15.2\"', '2.5', 'Nylon', 'Black', '-40° to 245°', 'No', '1 ft., 5 ft.', '4617T37', '67.20', '4617T74', '56.27'], ['2\"', '4.7\"', '3.3\"', '7.3\"', '7.9\"', '19.1\"', '3', 'Nylon', 'Black', '-40° to 245°', 'No', '1 ft., 5 ft.', '4617T38', '67.20', '4617T74', '56.27'], ['2.9\"', '4.7\"', '4.3\"', '7.9\"', '5.9\"', '16.1\"', '2.2', 'Nylon', 'Black', '-40° to 245°', 'No', '1 ft., 5 ft.', '4617T44', '86.44', '4617T77', '67.73'], ['2.9\"', '4.7\"', '4.3\"', '7.9\"', '7.9\"', '20\"', '2.7', 'Nylon', 'Black', '-40° to 245°', 'No', '1 ft., 5 ft.', '4617T45', '86.44', '4617T77', '67.73']]\n",
      "{'family_url': 'https://www.mcmaster.com/products/pulling-and-lifting/', 'family_name': 'Pulling and Lifting', 'category_url': 'https://www.mcmaster.com/products/chain/', 'category_name': 'Chain'} https://www.mcmaster.com/products/chain/chain-pull-cords/\n"
     ]
    },
    {
     "name": "stderr",
     "output_type": "stream",
     "text": [
      "\u001b[32m2023-10-22 00:40:57.847\u001b[0m | \u001b[1mINFO    \u001b[0m | \u001b[36m__main__\u001b[0m:\u001b[36mget_cache\u001b[0m:\u001b[36m45\u001b[0m - \u001b[1mCaching => https://www.mcmaster.com/products/chain/anchors-for-wheel-chocks/\u001b[0m\n"
     ]
    },
    {
     "name": "stdout",
     "output_type": "stream",
     "text": [
      "{'title-1': ['Inside\\nLink', 'Inside\\nLink', '', '', 'Handle', 'Handle', 'Handle', 'Handle', 'Handle', 'Handle', '', '', '', '', ''], 'title-0': ['Lg.', 'Wd.', 'Sash Chain\\nTrade Size', 'Cap., lbs.', 'Material', 'Dia.', 'Ht.', 'Wd.', 'Dp.', 'Color', ' ', '1 ft.', '2 ft.', '5 ft.', '8 ft.']}\n",
      "[['0.3\"', '0.15\"', '8', 'Not Rated', 'Steel', '1\"', '__', '__', '__', '__', '2678T1', '$20.53', '$21.50', '$24.45', '$27.37', 'Zinc-Plated Steel'], ['0.4\"', '0.17\"', '40', 'Not Rated', 'Steel', '1\"', '__', '__', '__', '__', '2678T3', '21.57', '23.01', '27.27', '31.54', 'Zinc-Plated Steel'], ['0.26\"', '0.12\"', '8', 'Not Rated', 'Stainless Steel', '1\"', '__', '__', '__', '__', '2678T6', '22.73', '27.52', '37.09', '46.64', '304 Stainless Steel'], ['0.34\"', '0.15\"', '35', 'Not Rated', 'Stainless Steel', '1\"', '__', '__', '__', '__', '2678T7', '24.30', '27.43', '36.88', '46.31', '304 Stainless Steel'], ['1.11\"', '0.21\"', '__', '55', 'Plastic', '__', '1 5/8\"', '3 1/8\"', '3/4\"', 'Black', '2679T1', '81.67', '76.69', '95.90', '94.78', 'Zinc-Plated Steel'], ['1.25\"', '0.32\"', '__', '400', 'Steel', '__', '5 1/2\"', '5 1/2\"', '1 1/2\"', '__', '2679T85', '160.10', '165.76', '153.16', '160.25', 'Zinc-Plated Steel']]\n",
      "{'family_url': 'https://www.mcmaster.com/products/pulling-and-lifting/', 'family_name': 'Pulling and Lifting', 'category_url': 'https://www.mcmaster.com/products/chain/', 'category_name': 'Chain'} https://www.mcmaster.com/products/chain/anchors-for-wheel-chocks/\n"
     ]
    },
    {
     "ename": "KeyboardInterrupt",
     "evalue": "",
     "output_type": "error",
     "traceback": [
      "\u001b[0;31m---------------------------------------------------------------------------\u001b[0m",
      "\u001b[0;31mKeyboardInterrupt\u001b[0m                         Traceback (most recent call last)",
      "\u001b[1;32m/Users/hash/work/upwork/mcmaster/test.ipynb Cell 8\u001b[0m line \u001b[0;36m1\n\u001b[0;32m----> <a href='vscode-notebook-cell:/Users/hash/work/upwork/mcmaster/test.ipynb#X10sZmlsZQ%3D%3D?line=0'>1</a>\u001b[0m x \u001b[39m=\u001b[39m mc\u001b[39m.\u001b[39;49mget_family(\u001b[39m'\u001b[39;49m\u001b[39mhttps://www.mcmaster.com/products/pulling-and-lifting/\u001b[39;49m\u001b[39m'\u001b[39;49m, \u001b[39m'\u001b[39;49m\u001b[39mPulling and Lifting\u001b[39;49m\u001b[39m'\u001b[39;49m)\n",
      "\u001b[1;32m/Users/hash/work/upwork/mcmaster/test.ipynb Cell 8\u001b[0m line \u001b[0;36m1\n\u001b[1;32m     <a href='vscode-notebook-cell:/Users/hash/work/upwork/mcmaster/test.ipynb#X10sZmlsZQ%3D%3D?line=11'>12</a>\u001b[0m category_url, category_name \u001b[39m=\u001b[39m i\u001b[39m.\u001b[39mget_attribute(\u001b[39m'\u001b[39m\u001b[39mhref\u001b[39m\u001b[39m'\u001b[39m), i\u001b[39m.\u001b[39mtext\u001b[39m.\u001b[39mreplace(\u001b[39m'\u001b[39m\u001b[39m, \u001b[39m\u001b[39m'\u001b[39m, \u001b[39m'\u001b[39m\u001b[39m-\u001b[39m\u001b[39m'\u001b[39m)\u001b[39m.\u001b[39mreplace(\u001b[39m'\u001b[39m\u001b[39m & \u001b[39m\u001b[39m'\u001b[39m, \u001b[39m'\u001b[39m\u001b[39m-\u001b[39m\u001b[39m'\u001b[39m)\u001b[39m.\u001b[39mreplace(\u001b[39m'\u001b[39m\u001b[39m \u001b[39m\u001b[39m'\u001b[39m, \u001b[39m'\u001b[39m\u001b[39m-\u001b[39m\u001b[39m'\u001b[39m)\n\u001b[1;32m     <a href='vscode-notebook-cell:/Users/hash/work/upwork/mcmaster/test.ipynb#X10sZmlsZQ%3D%3D?line=12'>13</a>\u001b[0m \u001b[39mprint\u001b[39m(category_name, category_url)\n\u001b[0;32m---> <a href='vscode-notebook-cell:/Users/hash/work/upwork/mcmaster/test.ipynb#X10sZmlsZQ%3D%3D?line=13'>14</a>\u001b[0m \u001b[39mself\u001b[39;49m\u001b[39m.\u001b[39;49mget_categories({\u001b[39m'\u001b[39;49m\u001b[39mfamily_url\u001b[39;49m\u001b[39m'\u001b[39;49m: family_url, \u001b[39m'\u001b[39;49m\u001b[39mfamily_name\u001b[39;49m\u001b[39m'\u001b[39;49m: family_name}, category_url, category_name)\n",
      "\u001b[1;32m/Users/hash/work/upwork/mcmaster/test.ipynb Cell 8\u001b[0m line \u001b[0;36m2\n\u001b[1;32m     <a href='vscode-notebook-cell:/Users/hash/work/upwork/mcmaster/test.ipynb#X10sZmlsZQ%3D%3D?line=21'>22</a>\u001b[0m \u001b[39mfor\u001b[39;00m product_url \u001b[39min\u001b[39;00m product_urls:\n\u001b[1;32m     <a href='vscode-notebook-cell:/Users/hash/work/upwork/mcmaster/test.ipynb#X10sZmlsZQ%3D%3D?line=22'>23</a>\u001b[0m     meta[\u001b[39m'\u001b[39m\u001b[39mcategory_url\u001b[39m\u001b[39m'\u001b[39m], meta[\u001b[39m'\u001b[39m\u001b[39mcategory_name\u001b[39m\u001b[39m'\u001b[39m] \u001b[39m=\u001b[39m category_url, category_name\n\u001b[0;32m---> <a href='vscode-notebook-cell:/Users/hash/work/upwork/mcmaster/test.ipynb#X10sZmlsZQ%3D%3D?line=23'>24</a>\u001b[0m     \u001b[39mself\u001b[39;49m\u001b[39m.\u001b[39;49mget_products(meta, product_url)\n\u001b[1;32m     <a href='vscode-notebook-cell:/Users/hash/work/upwork/mcmaster/test.ipynb#X10sZmlsZQ%3D%3D?line=24'>25</a>\u001b[0m     \u001b[39mbreak\u001b[39;00m\n",
      "\u001b[1;32m/Users/hash/work/upwork/mcmaster/test.ipynb Cell 8\u001b[0m line \u001b[0;36m3\n\u001b[1;32m     <a href='vscode-notebook-cell:/Users/hash/work/upwork/mcmaster/test.ipynb#X10sZmlsZQ%3D%3D?line=27'>28</a>\u001b[0m \u001b[39mdef\u001b[39;00m \u001b[39mget_products\u001b[39m(\u001b[39mself\u001b[39m, meta, product_url):\n\u001b[1;32m     <a href='vscode-notebook-cell:/Users/hash/work/upwork/mcmaster/test.ipynb#X10sZmlsZQ%3D%3D?line=28'>29</a>\u001b[0m     \u001b[39mprint\u001b[39m(meta, product_url)\n\u001b[0;32m---> <a href='vscode-notebook-cell:/Users/hash/work/upwork/mcmaster/test.ipynb#X10sZmlsZQ%3D%3D?line=29'>30</a>\u001b[0m     \u001b[39mself\u001b[39;49m\u001b[39m.\u001b[39;49md3\u001b[39m.\u001b[39;49mget(product_url)\n\u001b[1;32m     <a href='vscode-notebook-cell:/Users/hash/work/upwork/mcmaster/test.ipynb#X10sZmlsZQ%3D%3D?line=30'>31</a>\u001b[0m     \u001b[39mfor\u001b[39;00m table \u001b[39min\u001b[39;00m \u001b[39mself\u001b[39m\u001b[39m.\u001b[39md3\u001b[39m.\u001b[39mdriver\u001b[39m.\u001b[39mfind_elements(By\u001b[39m.\u001b[39mXPATH, xp\u001b[39m.\u001b[39mTABLES):\n\u001b[1;32m     <a href='vscode-notebook-cell:/Users/hash/work/upwork/mcmaster/test.ipynb#X10sZmlsZQ%3D%3D?line=31'>32</a>\u001b[0m         \u001b[39mtry\u001b[39;00m:\n",
      "\u001b[1;32m/Users/hash/work/upwork/mcmaster/test.ipynb Cell 8\u001b[0m line \u001b[0;36m1\n\u001b[1;32m     <a href='vscode-notebook-cell:/Users/hash/work/upwork/mcmaster/test.ipynb#X10sZmlsZQ%3D%3D?line=9'>10</a>\u001b[0m \u001b[39mif\u001b[39;00m \u001b[39mnot\u001b[39;00m \u001b[39mself\u001b[39m\u001b[39m.\u001b[39mget_cache(\u001b[39mself\u001b[39m\u001b[39m.\u001b[39mdriver, url):\n\u001b[1;32m     <a href='vscode-notebook-cell:/Users/hash/work/upwork/mcmaster/test.ipynb#X10sZmlsZQ%3D%3D?line=10'>11</a>\u001b[0m     \u001b[39mself\u001b[39m\u001b[39m.\u001b[39mdriver\u001b[39m.\u001b[39mget(url)\n\u001b[0;32m---> <a href='vscode-notebook-cell:/Users/hash/work/upwork/mcmaster/test.ipynb#X10sZmlsZQ%3D%3D?line=11'>12</a>\u001b[0m     time\u001b[39m.\u001b[39msleep(\u001b[39m3\u001b[39m)\n\u001b[1;32m     <a href='vscode-notebook-cell:/Users/hash/work/upwork/mcmaster/test.ipynb#X10sZmlsZQ%3D%3D?line=12'>13</a>\u001b[0m     \u001b[39mself\u001b[39m\u001b[39m.\u001b[39mset_cache(\u001b[39mself\u001b[39m\u001b[39m.\u001b[39mdriver)\n",
      "\u001b[0;31mKeyboardInterrupt\u001b[0m: "
     ]
    }
   ],
   "source": [
    "x = mc.get_family('https://www.mcmaster.com/products/pulling-and-lifting/', 'Pulling and Lifting')"
   ]
  },
  {
   "cell_type": "code",
   "execution_count": 12,
   "metadata": {},
   "outputs": [
    {
     "data": {
      "text/plain": [
       "<undetected_chromedriver.Chrome (session=\"b3265160bc818170aa257ed17d0047cf\")>"
      ]
     },
     "execution_count": 12,
     "metadata": {},
     "output_type": "execute_result"
    }
   ],
   "source": [
    "uc.Chrome(browser_executable_path='/Applications/Brave Browser.app/Contents/MacOS/Brave Browser', headless=False, use_subprocess=True)"
   ]
  },
  {
   "cell_type": "code",
   "execution_count": 8,
   "metadata": {},
   "outputs": [
    {
     "data": {
      "text/plain": [
       "'/Applications/Google Chrome.app/Contents/MacOS/Google Chrome'"
      ]
     },
     "execution_count": 8,
     "metadata": {},
     "output_type": "execute_result"
    }
   ],
   "source": [
    "uc.find_chrome_executable()"
   ]
  }
 ],
 "metadata": {
  "kernelspec": {
   "display_name": "venv",
   "language": "python",
   "name": "python3"
  },
  "language_info": {
   "codemirror_mode": {
    "name": "ipython",
    "version": 3
   },
   "file_extension": ".py",
   "mimetype": "text/x-python",
   "name": "python",
   "nbconvert_exporter": "python",
   "pygments_lexer": "ipython3",
   "version": "3.11.4"
  }
 },
 "nbformat": 4,
 "nbformat_minor": 2
}
