{
 "cells": [
  {
   "cell_type": "code",
   "execution_count": 1,
   "metadata": {},
   "outputs": [],
   "source": [
    "import time \n",
    "import math\n",
    "\n",
    "from selenium import webdriver\n",
    "from selenium.webdriver.common.by import By\n",
    "from selenium.webdriver.support.ui import WebDriverWait\n",
    "from selenium.common.exceptions import NoSuchElementException\n",
    "import undetected_chromedriver as uc\n",
    "from undetected_chromedriver import ChromeOptions\n",
    "from loguru import logger\n",
    "import pandas as pd\n",
    "\n",
    "from xpath import *\n",
    "\n",
    "\n"
   ]
  },
  {
   "cell_type": "code",
   "execution_count": 2,
   "metadata": {},
   "outputs": [],
   "source": [
    "options = ChromeOptions()\n",
    "# options.add_argument(\"--headless\")  # Optional: Run Selenium in headless mode\n",
    "\n",
    "# driver = webdriver.Chrome(service=Service(ChromeDriverManager().install()), options=options)\n",
    "driver = uc.Chrome(headless=False, use_subprocess=True)\n",
    "\n",
    "# Set a maximum wait time (in seconds)\n",
    "max_wait_time = 10\n",
    "wait = WebDriverWait(driver, max_wait_time)"
   ]
  },
  {
   "cell_type": "code",
   "execution_count": 5,
   "metadata": {},
   "outputs": [],
   "source": [
    "driver.get(url='https://www.mcmaster.com/products/hoist-rings/hoist-rings-for-lifting/')"
   ]
  },
  {
   "cell_type": "code",
   "execution_count": 3,
   "metadata": {},
   "outputs": [],
   "source": [
    "# elem = driver.find_element(\"xpath\", \"//*\")\n",
    "# source_code = elem.get_attribute(\"outerHTML\")\n",
    "# with open('source_code.html', 'w') as f:\n",
    "#     f.write(source_code)\n",
    "\n",
    "# driver.current_url\n",
    "# get the main page \n",
    "# driver.get('https://mcmaster.com')\n",
    "\n",
    "\n",
    "from main import *\n",
    "\n",
    "c = CacheHTMLPages()\n",
    "c.get_cache(driver=driver, url='https://www.mcmaster.com/products/hoist-rings/hoist-rings-for-lifting/')\n"
   ]
  },
  {
   "cell_type": "code",
   "execution_count": 5,
   "metadata": {},
   "outputs": [
    {
     "name": "stdout",
     "output_type": "stream",
     "text": [
      "https://www.mcmaster.com/products/abrading-polishing/ Abrading-Polishing\n",
      "https://www.mcmaster.com/products/building-grounds/ Building-Grounds\n",
      "https://www.mcmaster.com/products/electrical-lighting/ Electrical-Lighting\n",
      "https://www.mcmaster.com/products/fabricating/ Fabricating\n",
      "https://www.mcmaster.com/products/fastening-joining/ Fastening-Joining\n",
      "https://www.mcmaster.com/products/filtering/ Filtering\n",
      "https://www.mcmaster.com/products/flow-level-control/ Flow-Level-Control\n",
      "https://www.mcmaster.com/products/furniture-storage/ Furniture-Storage\n",
      "https://www.mcmaster.com/products/hand-tools/ Hand-Tools\n",
      "https://www.mcmaster.com/products/hardware/ Hardware\n",
      "https://www.mcmaster.com/products/heating-cooling/ Heating-Cooling\n",
      "https://www.mcmaster.com/products/lubricating/ Lubricating\n",
      "https://www.mcmaster.com/products/material-handling/ Material-Handling\n",
      "https://www.mcmaster.com/products/measuring-inspecting/ Measuring-Inspecting\n",
      "https://www.mcmaster.com/products/office-supplies-signs/ Office-Supplies-Signs\n",
      "https://www.mcmaster.com/products/pipe-tubing-hose-fittings/ Pipe-Tubing-Hose-Fittings\n",
      "https://www.mcmaster.com/products/plumbing-janitorial/ Plumbing-Janitorial\n",
      "https://www.mcmaster.com/products/power-transmission/ Power-Transmission\n",
      "https://www.mcmaster.com/products/pressure-temperature-control/ Pressure-Temperature-Control\n",
      "https://www.mcmaster.com/products/pulling-lifting/ Pulling-Lifting\n",
      "https://www.mcmaster.com/products/raw-materials/ Raw-Materials\n",
      "https://www.mcmaster.com/products/safety-supplies/ Safety-Supplies\n",
      "https://www.mcmaster.com/products/sawing-cutting/ Sawing-Cutting\n",
      "https://www.mcmaster.com/products/sealing/ Sealing\n",
      "https://www.mcmaster.com/products/shipping/ Shipping\n",
      "https://www.mcmaster.com/products/suspending/ Suspending\n"
     ]
    }
   ],
   "source": [
    "# get categories\n",
    "categories = driver.find_elements(By.XPATH, CATEGORIES)\n",
    "for i in categories:\n",
    "    print(i.get_attribute('href'), i.text.replace(', ', '-').replace(' & ', '-').replace(' ', '-'))"
   ]
  },
  {
   "cell_type": "code",
   "execution_count": 19,
   "metadata": {},
   "outputs": [
    {
     "name": "stdout",
     "output_type": "stream",
     "text": [
      "https://www.mcmaster.com/products/chain/ Chain\n",
      "https://www.mcmaster.com/products/wire-rope/ Wire Rope\n",
      "https://www.mcmaster.com/products/fibrous-rope/ Fibrous Rope\n",
      "https://www.mcmaster.com/products/chain-and-rope-fittings/ Chain & Rope Fittings\n",
      "https://www.mcmaster.com/products/rope-hooks/ Hooks\n",
      "https://www.mcmaster.com/products/slings/ Slings\n",
      "https://www.mcmaster.com/products/lifting-magnets/ Lifting Magnets\n",
      "https://www.mcmaster.com/products/hoist-rings/ Hoist Rings\n",
      "https://www.mcmaster.com/products/eyebolts/ Eyebolts\n",
      "https://www.mcmaster.com/products/lifting-clamps/ Lifting Clamps\n",
      "https://www.mcmaster.com/products/hoists/ Hoists\n",
      "https://www.mcmaster.com/products/trolleys/ Trolleys\n",
      "https://www.mcmaster.com/products/winches/ Winches\n",
      "https://www.mcmaster.com/products/cranes/ Cranes\n",
      "https://www.mcmaster.com/products/lifting-jacks/ Jacks\n",
      "https://www.mcmaster.com/products/rope-pulleys/ Pulleys & Blocks\n",
      "https://www.mcmaster.com/products/standard-suction-cups/ Suction Cups\n",
      "https://www.mcmaster.com/products/standard-vacuum-cups/ Vacuum Cups\n",
      "https://www.mcmaster.com/products/robotics/ Robotics\n"
     ]
    }
   ],
   "source": [
    "# for sake of the example we are choosing pulling & lifting\n",
    "sample_category_url  = 'https://www.mcmaster.com/products/pulling-lifting/'\n",
    "driver.get(sample_category_url)\n",
    "\n",
    "# get subcategories \n",
    "sub_categories = driver.find_elements(By.XPATH, '//div[@class=\"catg Pulling-Lifting\"]//a')\n",
    "for i in sub_categories:\n",
    "    print(i.get_attribute('href'), i.text)"
   ]
  },
  {
   "cell_type": "code",
   "execution_count": 20,
   "metadata": {},
   "outputs": [],
   "source": [
    "# for sake of example we are choosing trolleys\n",
    "# get products\n",
    "sample_scat_url = 'https://www.mcmaster.com/products/trolleys/'\n",
    "driver.get(sample_scat_url)"
   ]
  },
  {
   "cell_type": "code",
   "execution_count": 26,
   "metadata": {},
   "outputs": [
    {
     "name": "stdout",
     "output_type": "stream",
     "text": [
      "['https://www.mcmaster.com/products/trolleys/hoist-trolleys-5/', 'https://www.mcmaster.com/products/trolleys/chain-driven-hoist-trolleys-6/', 'https://www.mcmaster.com/products/trolleys/heavy-duty-chain-driven-hoist-trolleys/', 'https://www.mcmaster.com/products/trolleys/motorized-hoist-trolleys-5/', 'https://www.mcmaster.com/products/trolleys/easy-install-hoist-trolleys/', 'https://www.mcmaster.com/products/trolleys/wire-rope-travel-hoist-cable-trolleys/', 'https://www.mcmaster.com/products/trolleys/channel-travel-hoist-cable-trolleys/', 'https://www.mcmaster.com/products/trolleys/beam-travel-hoist-cable-trolleys/', 'https://www.mcmaster.com/products/trolleys/channel-travel-hoist-cable-trolley-systems-7/', 'https://www.mcmaster.com/products/trolleys/wire-rope-travel-hoist-cable-trolley-systems-7/', 'https://www.mcmaster.com/products/trolleys/replacement-parts-for-electric-chain-hoists/']\n",
      "['https://www.mcmaster.com/products/trolleys/beam-trolleys-5/']\n",
      "['https://www.mcmaster.com/products/trolleys/trolleys-for-overhead-enclosed-track-manual-conveyors/', 'https://www.mcmaster.com/products/trolleys/trolley-chain-for-overhead-enclosed-track-powered-conveyors/', 'https://www.mcmaster.com/products/trolleys/track-for-overhead-enclosed-track-conveyors/', 'https://www.mcmaster.com/products/trolleys/carriers-for-overhead-enclosed-track-powered-conveyors/', 'https://www.mcmaster.com/products/trolleys/brackets-for-overhead-enclosed-track-conveyors-5/']\n",
      "['https://www.mcmaster.com/products/trolleys/trolleys-for-manual-overhead-beam-conveyors/', 'https://www.mcmaster.com/products/trolleys/trolleys-for-powered-overhead-beam-conveyors/', 'https://www.mcmaster.com/products/trolleys/track-for-overhead-beam-conveyors/', 'https://www.mcmaster.com/products/trolleys/hooks-for-powered-overhead-beam-conveyors/', 'https://www.mcmaster.com/products/trolleys/chain-for-powered-overhead-beam-conveyors/']\n",
      "['https://www.mcmaster.com/products/trolleys/track-rollers-5/', 'https://www.mcmaster.com/products/trolleys/overhead-door-rollers-5/', 'https://www.mcmaster.com/products/trolleys/roller-track-for-doors-6/', 'https://www.mcmaster.com/products/trolleys/roller-track-sets-for-doors/', 'https://www.mcmaster.com/products/trolleys/dust-resistant-roller-track-for-doors/', 'https://www.mcmaster.com/products/trolleys/low-profile-roller-track-for-doors/', 'https://www.mcmaster.com/products/trolleys/curved-roller-track-for-doors-curtains-and-strip-doors/', 'https://www.mcmaster.com/products/trolleys/corrosion-resistant-i-beam-roller-track-for-doors-and-curtains/', 'https://www.mcmaster.com/products/trolleys/i-beam-roller-track-sets-for-doors/', 'https://www.mcmaster.com/products/trolleys/roller-track-sets-for-bypassing-doors/', 'https://www.mcmaster.com/products/trolleys/track-sets-for-bypassing-cabinet-doors/', 'https://www.mcmaster.com/products/trolleys/roller-track-sets-for-bypassing-cabinet-doors/', 'https://www.mcmaster.com/products/trolleys/door-guides-3/']\n",
      "['https://www.mcmaster.com/products/trolleys/strut-channel-trolleys-5/', 'https://www.mcmaster.com/products/trolleys/strut-channel-trolley-brackets-5/']\n",
      "['https://www.mcmaster.com/products/trolleys/door-stops-for-sliding-doors-6/']\n"
     ]
    }
   ],
   "source": [
    "# get products and also get there sub-products urls\n",
    "products = driver.find_elements(By.XPATH, '//div[@id=\"PageCntnr\"]/section')\n",
    "for i in products:\n",
    "    # get the product name\n",
    "    product_name = i.find_element(By.XPATH, './div[@class=\"aq PrsnttnHdrCntnr\"]').text\n",
    "    sub_product_links = [j.get_attribute('href') for j in i.find_elements(By.XPATH, './div[@class=\"AbbrPrsnttnGrid\"]//a')]\n",
    "    print(sub_product_links)\n"
   ]
  },
  {
   "cell_type": "code",
   "execution_count": 61,
   "metadata": {},
   "outputs": [],
   "source": [
    "# get sub products\n",
    "sample_product_url = 'https://www.mcmaster.com/products/trolleys/roller-track-sets-for-bypassing-doors/'\n",
    "driver.get(sample_product_url)"
   ]
  },
  {
   "cell_type": "code",
   "execution_count": 62,
   "metadata": {},
   "outputs": [],
   "source": [
    "# TODO \n",
    "# get the grids\n",
    "# a sub-product can have multiple types\n",
    "# each type will contains the images and the data"
   ]
  },
  {
   "cell_type": "code",
   "execution_count": 63,
   "metadata": {},
   "outputs": [
    {
     "name": "stdout",
     "output_type": "stream",
     "text": [
      "<undetected_chromedriver.webelement.WebElement (session=\"8b68ff4e49b05df987c5402e6a00258c\", element=\"8455E9A5A7385CFDDF8AF0AD698489EF_element_3436\")> <undetected_chromedriver.webelement.WebElement (session=\"8b68ff4e49b05df987c5402e6a00258c\", element=\"8455E9A5A7385CFDDF8AF0AD698489EF_element_3437\")>\n"
     ]
    }
   ],
   "source": [
    "# get the table that contains data\n",
    "table = driver.find_element(By.XPATH, '//table')\n",
    "head = table.find_element(By.XPATH, './thead')\n",
    "body = table.find_element(By.XPATH, './tbody')\n",
    "\n",
    "print(head, body)"
   ]
  },
  {
   "cell_type": "code",
   "execution_count": 64,
   "metadata": {},
   "outputs": [],
   "source": [
    "# process table headers\n",
    "headers = dict()\n",
    "table_titles = head.find_elements(By.XPATH, './tr')\n",
    "for index, tr in enumerate(table_titles):\n",
    "    # check if <td> is present i.e title-0\n",
    "    if tr.find_elements(By.XPATH, './td'):\n",
    "        title0 = [i.text for i in tr.find_elements(By.XPATH, './td')]\n",
    "        headers[f'title-{len(table_titles) - 1 - index}'] = title0\n",
    "    # rest titles i.e. title-(n)\n",
    "    else:\n",
    "        titlen = []\n",
    "        ths = tr.find_elements(By.XPATH, './th')\n",
    "        for tr1 in ths:\n",
    "            col_span = tr1.get_attribute('colspan')\n",
    "            titlen += ([tr1.text] * int(col_span))\n",
    "        \n",
    "        headers[f'title-{len(table_titles) - 1 - index}'] = titlen\n",
    "\n",
    "\n",
    "# validating headers\n",
    "# rule: the length of each headers must be equal\n",
    "if 'title-0' not in headers:\n",
    "    raise Exception('Headers Doesnt contains title-0')\n",
    "if not len(headers) * len(headers['title-0']) == sum([len (v) for _ , v in headers.items()]):\n",
    "    raise Exception('Validation Failed')"
   ]
  },
  {
   "cell_type": "code",
   "execution_count": 65,
   "metadata": {},
   "outputs": [],
   "source": [
    "# process table body\n",
    "body_data = list()\n",
    "table_body = body.find_elements(By.XPATH, './tr')\n",
    "row_headers = ''\n",
    "for index, tr in enumerate(table_body):\n",
    "    # row is a header actually\n",
    "    if tr.find_elements(By.XPATH, './th'):\n",
    "        row_headers = tr.text\n",
    "        continue\n",
    "    else:\n",
    "        tds = tr.find_elements(By.XPATH, './td')\n",
    "        row = []\n",
    "        for index1, td in enumerate(tds):\n",
    "            row.append(td.text)\n",
    "        \n",
    "        if row_headers:\n",
    "            row.append(row_headers)\n",
    "\n",
    "    body_data.append(row)\n",
    "\n",
    "\n"
   ]
  },
  {
   "cell_type": "code",
   "execution_count": 66,
   "metadata": {},
   "outputs": [
    {
     "data": {
      "text/plain": [
       "[[\"4'\",\n",
       "  '3/4\"-1 3/8\"',\n",
       "  '1 1/16\"',\n",
       "  '1 1/4\"',\n",
       "  '1 9/16\"',\n",
       "  'Steel',\n",
       "  'Yes',\n",
       "  '1223A1',\n",
       "  '$33.13',\n",
       "  '______',\n",
       "  '__',\n",
       "  '60-lb. Capacity'],\n",
       " [\"5'\",\n",
       "  '3/4\"-1 3/8\"',\n",
       "  '1 1/16\"',\n",
       "  '1 1/4\"',\n",
       "  '1 9/16\"',\n",
       "  'Steel',\n",
       "  'Yes',\n",
       "  '1223A2',\n",
       "  '37.25',\n",
       "  '______',\n",
       "  '__',\n",
       "  '60-lb. Capacity'],\n",
       " [\"6'\",\n",
       "  '3/4\"-1 3/8\"',\n",
       "  '1 1/16\"',\n",
       "  '1 1/4\"',\n",
       "  '1 9/16\"',\n",
       "  'Steel',\n",
       "  'Yes',\n",
       "  '1223A3',\n",
       "  '41.46',\n",
       "  '______',\n",
       "  '__',\n",
       "  '60-lb. Capacity'],\n",
       " [\"8'\",\n",
       "  '3/4\"-1 3/8\"',\n",
       "  '1 1/16\"',\n",
       "  '1 1/4\"',\n",
       "  '1 9/16\"',\n",
       "  'Steel',\n",
       "  'Yes',\n",
       "  '1223A4',\n",
       "  '40.72',\n",
       "  '______',\n",
       "  '__',\n",
       "  '60-lb. Capacity'],\n",
       " [\"4'\",\n",
       "  '1 3/8\"-1 3/4\"',\n",
       "  '1 3/16\"',\n",
       "  '2 1/16\"',\n",
       "  '2 11/16\"',\n",
       "  'Aluminum',\n",
       "  'Yes',\n",
       "  '1223A66',\n",
       "  '69.83',\n",
       "  '______',\n",
       "  '__',\n",
       "  '125-lb. Capacity'],\n",
       " [\"5'\",\n",
       "  '1 3/8\"-1 3/4\"',\n",
       "  '1 3/16\"',\n",
       "  '2 1/16\"',\n",
       "  '2 11/16\"',\n",
       "  'Aluminum',\n",
       "  'Yes',\n",
       "  '1223A67',\n",
       "  '76.03',\n",
       "  '______',\n",
       "  '__',\n",
       "  '125-lb. Capacity'],\n",
       " [\"6'\",\n",
       "  '1 3/8\"-1 3/4\"',\n",
       "  '1 3/16\"',\n",
       "  '2 1/16\"',\n",
       "  '2 11/16\"',\n",
       "  'Aluminum',\n",
       "  'Yes',\n",
       "  '1223A68',\n",
       "  '78.12',\n",
       "  '______',\n",
       "  '__',\n",
       "  '125-lb. Capacity'],\n",
       " [\"8'\",\n",
       "  '1 3/8\"-1 3/4\"',\n",
       "  '1 3/16\"',\n",
       "  '2 1/16\"',\n",
       "  '2 11/16\"',\n",
       "  'Aluminum',\n",
       "  'Yes',\n",
       "  '1223A69',\n",
       "  '92.00',\n",
       "  '______',\n",
       "  '__',\n",
       "  '125-lb. Capacity'],\n",
       " [\"5'\",\n",
       "  '1 3/8\"-1 3/4\"',\n",
       "  '1 3/16\"',\n",
       "  '1 3/4\"',\n",
       "  '2 3/8\"',\n",
       "  'Aluminum',\n",
       "  'Yes',\n",
       "  '1223A32',\n",
       "  '114.37',\n",
       "  '1223A55',\n",
       "  '$69.10',\n",
       "  '250-lb. Capacity'],\n",
       " [\"6'\",\n",
       "  '1 3/8\"-1 3/4\"',\n",
       "  '1 3/16\"',\n",
       "  '1 3/4\"',\n",
       "  '2 3/8\"',\n",
       "  'Aluminum',\n",
       "  'Yes',\n",
       "  '1223A33',\n",
       "  '137.23',\n",
       "  '1223A55',\n",
       "  '69.10',\n",
       "  '250-lb. Capacity'],\n",
       " [\"8'\",\n",
       "  '1 3/8\"-1 3/4\"',\n",
       "  '1 3/16\"',\n",
       "  '1 3/4\"',\n",
       "  '2 3/8\"',\n",
       "  'Aluminum',\n",
       "  'Yes',\n",
       "  '1223A34',\n",
       "  '182.98',\n",
       "  '1223A55',\n",
       "  '69.10',\n",
       "  '250-lb. Capacity']]"
      ]
     },
     "execution_count": 66,
     "metadata": {},
     "output_type": "execute_result"
    }
   ],
   "source": [
    "body_data"
   ]
  },
  {
   "cell_type": "code",
   "execution_count": 67,
   "metadata": {},
   "outputs": [
    {
     "name": "stdout",
     "output_type": "stream",
     "text": [
      "11 12\n",
      "Row headers found: 1\n"
     ]
    }
   ],
   "source": [
    "# validate body_data and headers\n",
    "# TODO: validate types\n",
    "headers_len = len(headers['title-0'])\n",
    "avg_body_len = math.ceil(sum([len(i) for i in body_data]) / len(body_data))\n",
    "\n",
    "print(headers_len, avg_body_len)\n",
    "if headers == avg_body_len:\n",
    "    pass\n",
    "# add one more column in the headers as\n",
    "# body has a row_header\n",
    "elif headers_len < avg_body_len:\n",
    "    diff = avg_body_len - headers_len\n",
    "    print(f'Row headers found: {diff}')\n",
    "    for k, v in headers.items():\n",
    "        v.append('Row Header')\n",
    "        headers[k] = v"
   ]
  },
  {
   "cell_type": "code",
   "execution_count": 68,
   "metadata": {},
   "outputs": [
    {
     "data": {
      "text/plain": [
       "{'title-2': ['Roller Track Sets',\n",
       "  'Roller Track Sets',\n",
       "  'Roller Track Sets',\n",
       "  'Roller Track Sets',\n",
       "  'Roller Track Sets',\n",
       "  'Roller Track Sets',\n",
       "  'Roller Track Sets',\n",
       "  'Roller Track Sets',\n",
       "  'Roller Track Sets',\n",
       "  '',\n",
       "  '',\n",
       "  'Row Header'],\n",
       " 'title-1': ['',\n",
       "  '',\n",
       "  '',\n",
       "  'Vertical\\nAdjustment',\n",
       "  'Vertical\\nAdjustment',\n",
       "  '',\n",
       "  '',\n",
       "  '',\n",
       "  '',\n",
       "  'Additional\\nHangers',\n",
       "  'Additional\\nHangers',\n",
       "  'Row Header'],\n",
       " 'title-0': ['Lg.',\n",
       "  'For Door\\nThick.',\n",
       "  'Ht.',\n",
       "  'Min.',\n",
       "  'Max.',\n",
       "  'Material',\n",
       "  'Mounting\\nFasteners Included',\n",
       "  ' ',\n",
       "  'Each',\n",
       "  ' ',\n",
       "  'Pair',\n",
       "  'Row Header']}"
      ]
     },
     "execution_count": 68,
     "metadata": {},
     "output_type": "execute_result"
    }
   ],
   "source": [
    "headers"
   ]
  },
  {
   "cell_type": "code",
   "execution_count": 77,
   "metadata": {},
   "outputs": [],
   "source": [
    "df = pd.DataFrame(body_data, columns=[v for k, v in headers.items()])"
   ]
  },
  {
   "cell_type": "code",
   "execution_count": 79,
   "metadata": {},
   "outputs": [],
   "source": [
    "df.to_excel('sample_roller-track-for-doors-6.xlsx')"
   ]
  },
  {
   "cell_type": "code",
   "execution_count": 71,
   "metadata": {},
   "outputs": [],
   "source": [
    "\n",
    "df.columns = pd.MultiIndex.from_tuples(zip(headers['title-1'], df.columns))"
   ]
  },
  {
   "cell_type": "code",
   "execution_count": 73,
   "metadata": {},
   "outputs": [],
   "source": [
    "df.columns = pd.MultiIndex.from_tuples(zip(headers['title-2'], df.columns))"
   ]
  },
  {
   "cell_type": "code",
   "execution_count": 82,
   "metadata": {},
   "outputs": [
    {
     "data": {
      "text/html": [
       "<div>\n",
       "<style scoped>\n",
       "    .dataframe tbody tr th:only-of-type {\n",
       "        vertical-align: middle;\n",
       "    }\n",
       "\n",
       "    .dataframe tbody tr th {\n",
       "        vertical-align: top;\n",
       "    }\n",
       "\n",
       "    .dataframe thead tr th {\n",
       "        text-align: left;\n",
       "    }\n",
       "</style>\n",
       "<table border=\"1\" class=\"dataframe\">\n",
       "  <thead>\n",
       "    <tr>\n",
       "      <th></th>\n",
       "      <th colspan=\"9\" halign=\"left\">Roller Track Sets</th>\n",
       "      <th colspan=\"2\" halign=\"left\"></th>\n",
       "      <th>Row Header</th>\n",
       "    </tr>\n",
       "    <tr>\n",
       "      <th></th>\n",
       "      <th colspan=\"3\" halign=\"left\"></th>\n",
       "      <th colspan=\"2\" halign=\"left\">Vertical\\nAdjustment</th>\n",
       "      <th colspan=\"4\" halign=\"left\"></th>\n",
       "      <th colspan=\"2\" halign=\"left\">Additional\\nHangers</th>\n",
       "      <th>Row Header</th>\n",
       "    </tr>\n",
       "    <tr>\n",
       "      <th></th>\n",
       "      <th>Lg.</th>\n",
       "      <th>For Door\\nThick.</th>\n",
       "      <th>Ht.</th>\n",
       "      <th>Min.</th>\n",
       "      <th>Max.</th>\n",
       "      <th>Material</th>\n",
       "      <th>Mounting\\nFasteners Included</th>\n",
       "      <th></th>\n",
       "      <th>Each</th>\n",
       "      <th></th>\n",
       "      <th>Pair</th>\n",
       "      <th>Row Header</th>\n",
       "    </tr>\n",
       "  </thead>\n",
       "  <tbody>\n",
       "    <tr>\n",
       "      <th>0</th>\n",
       "      <td>4'</td>\n",
       "      <td>3/4\"-1 3/8\"</td>\n",
       "      <td>1 1/16\"</td>\n",
       "      <td>1 1/4\"</td>\n",
       "      <td>1 9/16\"</td>\n",
       "      <td>Steel</td>\n",
       "      <td>Yes</td>\n",
       "      <td>1223A1</td>\n",
       "      <td>$33.13</td>\n",
       "      <td>______</td>\n",
       "      <td>__</td>\n",
       "      <td>60-lb. Capacity</td>\n",
       "    </tr>\n",
       "    <tr>\n",
       "      <th>1</th>\n",
       "      <td>5'</td>\n",
       "      <td>3/4\"-1 3/8\"</td>\n",
       "      <td>1 1/16\"</td>\n",
       "      <td>1 1/4\"</td>\n",
       "      <td>1 9/16\"</td>\n",
       "      <td>Steel</td>\n",
       "      <td>Yes</td>\n",
       "      <td>1223A2</td>\n",
       "      <td>37.25</td>\n",
       "      <td>______</td>\n",
       "      <td>__</td>\n",
       "      <td>60-lb. Capacity</td>\n",
       "    </tr>\n",
       "    <tr>\n",
       "      <th>2</th>\n",
       "      <td>6'</td>\n",
       "      <td>3/4\"-1 3/8\"</td>\n",
       "      <td>1 1/16\"</td>\n",
       "      <td>1 1/4\"</td>\n",
       "      <td>1 9/16\"</td>\n",
       "      <td>Steel</td>\n",
       "      <td>Yes</td>\n",
       "      <td>1223A3</td>\n",
       "      <td>41.46</td>\n",
       "      <td>______</td>\n",
       "      <td>__</td>\n",
       "      <td>60-lb. Capacity</td>\n",
       "    </tr>\n",
       "    <tr>\n",
       "      <th>3</th>\n",
       "      <td>8'</td>\n",
       "      <td>3/4\"-1 3/8\"</td>\n",
       "      <td>1 1/16\"</td>\n",
       "      <td>1 1/4\"</td>\n",
       "      <td>1 9/16\"</td>\n",
       "      <td>Steel</td>\n",
       "      <td>Yes</td>\n",
       "      <td>1223A4</td>\n",
       "      <td>40.72</td>\n",
       "      <td>______</td>\n",
       "      <td>__</td>\n",
       "      <td>60-lb. Capacity</td>\n",
       "    </tr>\n",
       "    <tr>\n",
       "      <th>4</th>\n",
       "      <td>4'</td>\n",
       "      <td>1 3/8\"-1 3/4\"</td>\n",
       "      <td>1 3/16\"</td>\n",
       "      <td>2 1/16\"</td>\n",
       "      <td>2 11/16\"</td>\n",
       "      <td>Aluminum</td>\n",
       "      <td>Yes</td>\n",
       "      <td>1223A66</td>\n",
       "      <td>69.83</td>\n",
       "      <td>______</td>\n",
       "      <td>__</td>\n",
       "      <td>125-lb. Capacity</td>\n",
       "    </tr>\n",
       "    <tr>\n",
       "      <th>5</th>\n",
       "      <td>5'</td>\n",
       "      <td>1 3/8\"-1 3/4\"</td>\n",
       "      <td>1 3/16\"</td>\n",
       "      <td>2 1/16\"</td>\n",
       "      <td>2 11/16\"</td>\n",
       "      <td>Aluminum</td>\n",
       "      <td>Yes</td>\n",
       "      <td>1223A67</td>\n",
       "      <td>76.03</td>\n",
       "      <td>______</td>\n",
       "      <td>__</td>\n",
       "      <td>125-lb. Capacity</td>\n",
       "    </tr>\n",
       "    <tr>\n",
       "      <th>6</th>\n",
       "      <td>6'</td>\n",
       "      <td>1 3/8\"-1 3/4\"</td>\n",
       "      <td>1 3/16\"</td>\n",
       "      <td>2 1/16\"</td>\n",
       "      <td>2 11/16\"</td>\n",
       "      <td>Aluminum</td>\n",
       "      <td>Yes</td>\n",
       "      <td>1223A68</td>\n",
       "      <td>78.12</td>\n",
       "      <td>______</td>\n",
       "      <td>__</td>\n",
       "      <td>125-lb. Capacity</td>\n",
       "    </tr>\n",
       "    <tr>\n",
       "      <th>7</th>\n",
       "      <td>8'</td>\n",
       "      <td>1 3/8\"-1 3/4\"</td>\n",
       "      <td>1 3/16\"</td>\n",
       "      <td>2 1/16\"</td>\n",
       "      <td>2 11/16\"</td>\n",
       "      <td>Aluminum</td>\n",
       "      <td>Yes</td>\n",
       "      <td>1223A69</td>\n",
       "      <td>92.00</td>\n",
       "      <td>______</td>\n",
       "      <td>__</td>\n",
       "      <td>125-lb. Capacity</td>\n",
       "    </tr>\n",
       "    <tr>\n",
       "      <th>8</th>\n",
       "      <td>5'</td>\n",
       "      <td>1 3/8\"-1 3/4\"</td>\n",
       "      <td>1 3/16\"</td>\n",
       "      <td>1 3/4\"</td>\n",
       "      <td>2 3/8\"</td>\n",
       "      <td>Aluminum</td>\n",
       "      <td>Yes</td>\n",
       "      <td>1223A32</td>\n",
       "      <td>114.37</td>\n",
       "      <td>1223A55</td>\n",
       "      <td>$69.10</td>\n",
       "      <td>250-lb. Capacity</td>\n",
       "    </tr>\n",
       "    <tr>\n",
       "      <th>9</th>\n",
       "      <td>6'</td>\n",
       "      <td>1 3/8\"-1 3/4\"</td>\n",
       "      <td>1 3/16\"</td>\n",
       "      <td>1 3/4\"</td>\n",
       "      <td>2 3/8\"</td>\n",
       "      <td>Aluminum</td>\n",
       "      <td>Yes</td>\n",
       "      <td>1223A33</td>\n",
       "      <td>137.23</td>\n",
       "      <td>1223A55</td>\n",
       "      <td>69.10</td>\n",
       "      <td>250-lb. Capacity</td>\n",
       "    </tr>\n",
       "    <tr>\n",
       "      <th>10</th>\n",
       "      <td>8'</td>\n",
       "      <td>1 3/8\"-1 3/4\"</td>\n",
       "      <td>1 3/16\"</td>\n",
       "      <td>1 3/4\"</td>\n",
       "      <td>2 3/8\"</td>\n",
       "      <td>Aluminum</td>\n",
       "      <td>Yes</td>\n",
       "      <td>1223A34</td>\n",
       "      <td>182.98</td>\n",
       "      <td>1223A55</td>\n",
       "      <td>69.10</td>\n",
       "      <td>250-lb. Capacity</td>\n",
       "    </tr>\n",
       "  </tbody>\n",
       "</table>\n",
       "</div>"
      ],
      "text/plain": [
       "   Roller Track Sets                                                           \\\n",
       "                                               Vertical\\nAdjustment             \n",
       "                 Lg. For Door\\nThick.      Ht.                 Min.      Max.   \n",
       "0                 4'      3/4\"-1 3/8\"  1 1/16\"               1 1/4\"   1 9/16\"   \n",
       "1                 5'      3/4\"-1 3/8\"  1 1/16\"               1 1/4\"   1 9/16\"   \n",
       "2                 6'      3/4\"-1 3/8\"  1 1/16\"               1 1/4\"   1 9/16\"   \n",
       "3                 8'      3/4\"-1 3/8\"  1 1/16\"               1 1/4\"   1 9/16\"   \n",
       "4                 4'    1 3/8\"-1 3/4\"  1 3/16\"              2 1/16\"  2 11/16\"   \n",
       "5                 5'    1 3/8\"-1 3/4\"  1 3/16\"              2 1/16\"  2 11/16\"   \n",
       "6                 6'    1 3/8\"-1 3/4\"  1 3/16\"              2 1/16\"  2 11/16\"   \n",
       "7                 8'    1 3/8\"-1 3/4\"  1 3/16\"              2 1/16\"  2 11/16\"   \n",
       "8                 5'    1 3/8\"-1 3/4\"  1 3/16\"               1 3/4\"    2 3/8\"   \n",
       "9                 6'    1 3/8\"-1 3/4\"  1 3/16\"               1 3/4\"    2 3/8\"   \n",
       "10                8'    1 3/8\"-1 3/4\"  1 3/16\"               1 3/4\"    2 3/8\"   \n",
       "\n",
       "                                                            \\\n",
       "                                                             \n",
       "    Material Mounting\\nFasteners Included             Each   \n",
       "0      Steel                          Yes   1223A1  $33.13   \n",
       "1      Steel                          Yes   1223A2   37.25   \n",
       "2      Steel                          Yes   1223A3   41.46   \n",
       "3      Steel                          Yes   1223A4   40.72   \n",
       "4   Aluminum                          Yes  1223A66   69.83   \n",
       "5   Aluminum                          Yes  1223A67   76.03   \n",
       "6   Aluminum                          Yes  1223A68   78.12   \n",
       "7   Aluminum                          Yes  1223A69   92.00   \n",
       "8   Aluminum                          Yes  1223A32  114.37   \n",
       "9   Aluminum                          Yes  1223A33  137.23   \n",
       "10  Aluminum                          Yes  1223A34  182.98   \n",
       "\n",
       "                                      Row Header  \n",
       "   Additional\\nHangers                Row Header  \n",
       "                          Pair        Row Header  \n",
       "0               ______      __   60-lb. Capacity  \n",
       "1               ______      __   60-lb. Capacity  \n",
       "2               ______      __   60-lb. Capacity  \n",
       "3               ______      __   60-lb. Capacity  \n",
       "4               ______      __  125-lb. Capacity  \n",
       "5               ______      __  125-lb. Capacity  \n",
       "6               ______      __  125-lb. Capacity  \n",
       "7               ______      __  125-lb. Capacity  \n",
       "8              1223A55  $69.10  250-lb. Capacity  \n",
       "9              1223A55   69.10  250-lb. Capacity  \n",
       "10             1223A55   69.10  250-lb. Capacity  "
      ]
     },
     "execution_count": 82,
     "metadata": {},
     "output_type": "execute_result"
    }
   ],
   "source": [
    "df"
   ]
  },
  {
   "cell_type": "code",
   "execution_count": 80,
   "metadata": {},
   "outputs": [
    {
     "data": {
      "text/plain": [
       "{'title-2': ['Roller Track Sets',\n",
       "  'Roller Track Sets',\n",
       "  'Roller Track Sets',\n",
       "  'Roller Track Sets',\n",
       "  'Roller Track Sets',\n",
       "  'Roller Track Sets',\n",
       "  'Roller Track Sets',\n",
       "  'Roller Track Sets',\n",
       "  'Roller Track Sets',\n",
       "  '',\n",
       "  '',\n",
       "  'Row Header'],\n",
       " 'title-1': ['',\n",
       "  '',\n",
       "  '',\n",
       "  'Vertical\\nAdjustment',\n",
       "  'Vertical\\nAdjustment',\n",
       "  '',\n",
       "  '',\n",
       "  '',\n",
       "  '',\n",
       "  'Additional\\nHangers',\n",
       "  'Additional\\nHangers',\n",
       "  'Row Header'],\n",
       " 'title-0': ['Lg.',\n",
       "  'For Door\\nThick.',\n",
       "  'Ht.',\n",
       "  'Min.',\n",
       "  'Max.',\n",
       "  'Material',\n",
       "  'Mounting\\nFasteners Included',\n",
       "  ' ',\n",
       "  'Each',\n",
       "  ' ',\n",
       "  'Pair',\n",
       "  'Row Header']}"
      ]
     },
     "execution_count": 80,
     "metadata": {},
     "output_type": "execute_result"
    }
   ],
   "source": [
    "headers"
   ]
  },
  {
   "cell_type": "code",
   "execution_count": 81,
   "metadata": {},
   "outputs": [],
   "source": [
    "driver.quit()"
   ]
  },
  {
   "cell_type": "code",
   "execution_count": 5,
   "metadata": {},
   "outputs": [],
   "source": [
    "from selenium import webdriver\n",
    "from selenium.webdriver.chrome.service import Service\n",
    "from webdriver_manager.chrome import ChromeDriverManager \n",
    "\n",
    "class DriverManager:\n",
    "    def __init__(self):\n",
    "        self.driver = webdriver.Chrome(service=Service(ChromeDriverManager().install()))\n",
    "        # This downloads latest webdriver if needed\n",
    "\n",
    "    def get_driver(self):\n",
    "        return(self.driver)"
   ]
  },
  {
   "cell_type": "code",
   "execution_count": 6,
   "metadata": {},
   "outputs": [],
   "source": [
    "\n",
    "# Instantiates the class\n",
    "\n",
    "from selenium import webdriver\n",
    "\n",
    "class Crawler (webdriver.Chrome):\n",
    "    def __init__(self, driver=DriverManager.get_driver):\n",
    "        super().__init__()\n",
    "      \n",
    "    def goto_frontpage(self):\n",
    "        self.get(\"stackoverflow.com\")"
   ]
  },
  {
   "cell_type": "code",
   "execution_count": 7,
   "metadata": {},
   "outputs": [
    {
     "name": "stderr",
     "output_type": "stream",
     "text": [
      "The chromedriver version (106.0.5249.61) detected in PATH at /usr/local/bin/chromedriver might not be compatible with the detected chrome version (118.0.5993.70); currently, chromedriver 118.0.5993.70 is recommended for chrome 118.*, so it is advised to delete the driver in PATH and retry\n"
     ]
    },
    {
     "ename": "SessionNotCreatedException",
     "evalue": "Message: session not created: This version of ChromeDriver only supports Chrome version 106\nCurrent browser version is 118.0.5993.70 with binary path /Applications/Google Chrome.app/Contents/MacOS/Google Chrome\nStacktrace:\n0   chromedriver                        0x0000000103122f44 chromedriver + 3813188\n1   chromedriver                        0x00000001030b4ae0 chromedriver + 3361504\n2   chromedriver                        0x0000000102db8c5c chromedriver + 232540\n3   chromedriver                        0x0000000102ddcc94 chromedriver + 380052\n4   chromedriver                        0x0000000102dd935c chromedriver + 365404\n5   chromedriver                        0x0000000102dd6208 chromedriver + 352776\n6   chromedriver                        0x0000000102e0a418 chromedriver + 566296\n7   chromedriver                        0x0000000102e09f68 chromedriver + 565096\n8   chromedriver                        0x0000000102ddf358 chromedriver + 389976\n9   chromedriver                        0x0000000102de0284 chromedriver + 393860\n10  chromedriver                        0x00000001030f6e18 chromedriver + 3632664\n11  chromedriver                        0x00000001030fa97c chromedriver + 3647868\n12  chromedriver                        0x0000000103100b58 chromedriver + 3672920\n13  chromedriver                        0x00000001030fb350 chromedriver + 3650384\n14  chromedriver                        0x00000001030d88dc chromedriver + 3508444\n15  chromedriver                        0x0000000103115914 chromedriver + 3758356\n16  chromedriver                        0x0000000103115a78 chromedriver + 3758712\n17  chromedriver                        0x00000001031296cc chromedriver + 3839692\n18  libsystem_pthread.dylib             0x000000018d9b3034 _pthread_start + 136\n19  libsystem_pthread.dylib             0x000000018d9ade3c thread_start + 8\n",
     "output_type": "error",
     "traceback": [
      "\u001b[0;31m---------------------------------------------------------------------------\u001b[0m",
      "\u001b[0;31mSessionNotCreatedException\u001b[0m                Traceback (most recent call last)",
      "\u001b[1;32m/Users/hash/work/upwork/mcmaster/main.ipynb Cell 25\u001b[0m line \u001b[0;36m1\n\u001b[0;32m----> <a href='vscode-notebook-cell:/Users/hash/work/upwork/mcmaster/main.ipynb#X33sZmlsZQ%3D%3D?line=0'>1</a>\u001b[0m init \u001b[39m=\u001b[39m Crawler()\n\u001b[1;32m      <a href='vscode-notebook-cell:/Users/hash/work/upwork/mcmaster/main.ipynb#X33sZmlsZQ%3D%3D?line=1'>2</a>\u001b[0m init\u001b[39m.\u001b[39mgoto_frontpage()\n",
      "\u001b[1;32m/Users/hash/work/upwork/mcmaster/main.ipynb Cell 25\u001b[0m line \u001b[0;36m7\n\u001b[1;32m      <a href='vscode-notebook-cell:/Users/hash/work/upwork/mcmaster/main.ipynb#X33sZmlsZQ%3D%3D?line=5'>6</a>\u001b[0m \u001b[39mdef\u001b[39;00m \u001b[39m__init__\u001b[39m(\u001b[39mself\u001b[39m, driver\u001b[39m=\u001b[39mDriverManager\u001b[39m.\u001b[39mget_driver):\n\u001b[0;32m----> <a href='vscode-notebook-cell:/Users/hash/work/upwork/mcmaster/main.ipynb#X33sZmlsZQ%3D%3D?line=6'>7</a>\u001b[0m     \u001b[39msuper\u001b[39;49m()\u001b[39m.\u001b[39;49m\u001b[39m__init__\u001b[39;49m()\n",
      "File \u001b[0;32m~/work/upwork/mcmaster/venv/lib/python3.11/site-packages/selenium/webdriver/chrome/webdriver.py:45\u001b[0m, in \u001b[0;36mWebDriver.__init__\u001b[0;34m(self, options, service, keep_alive)\u001b[0m\n\u001b[1;32m     42\u001b[0m service \u001b[39m=\u001b[39m service \u001b[39mif\u001b[39;00m service \u001b[39melse\u001b[39;00m Service()\n\u001b[1;32m     43\u001b[0m options \u001b[39m=\u001b[39m options \u001b[39mif\u001b[39;00m options \u001b[39melse\u001b[39;00m Options()\n\u001b[0;32m---> 45\u001b[0m \u001b[39msuper\u001b[39;49m()\u001b[39m.\u001b[39;49m\u001b[39m__init__\u001b[39;49m(\n\u001b[1;32m     46\u001b[0m     DesiredCapabilities\u001b[39m.\u001b[39;49mCHROME[\u001b[39m\"\u001b[39;49m\u001b[39mbrowserName\u001b[39;49m\u001b[39m\"\u001b[39;49m],\n\u001b[1;32m     47\u001b[0m     \u001b[39m\"\u001b[39;49m\u001b[39mgoog\u001b[39;49m\u001b[39m\"\u001b[39;49m,\n\u001b[1;32m     48\u001b[0m     options,\n\u001b[1;32m     49\u001b[0m     service,\n\u001b[1;32m     50\u001b[0m     keep_alive,\n\u001b[1;32m     51\u001b[0m )\n",
      "File \u001b[0;32m~/work/upwork/mcmaster/venv/lib/python3.11/site-packages/selenium/webdriver/chromium/webdriver.py:56\u001b[0m, in \u001b[0;36mChromiumDriver.__init__\u001b[0;34m(self, browser_name, vendor_prefix, options, service, keep_alive)\u001b[0m\n\u001b[1;32m     53\u001b[0m \u001b[39mself\u001b[39m\u001b[39m.\u001b[39mservice\u001b[39m.\u001b[39mstart()\n\u001b[1;32m     55\u001b[0m \u001b[39mtry\u001b[39;00m:\n\u001b[0;32m---> 56\u001b[0m     \u001b[39msuper\u001b[39;49m()\u001b[39m.\u001b[39;49m\u001b[39m__init__\u001b[39;49m(\n\u001b[1;32m     57\u001b[0m         command_executor\u001b[39m=\u001b[39;49mChromiumRemoteConnection(\n\u001b[1;32m     58\u001b[0m             remote_server_addr\u001b[39m=\u001b[39;49m\u001b[39mself\u001b[39;49m\u001b[39m.\u001b[39;49mservice\u001b[39m.\u001b[39;49mservice_url,\n\u001b[1;32m     59\u001b[0m             browser_name\u001b[39m=\u001b[39;49mbrowser_name,\n\u001b[1;32m     60\u001b[0m             vendor_prefix\u001b[39m=\u001b[39;49mvendor_prefix,\n\u001b[1;32m     61\u001b[0m             keep_alive\u001b[39m=\u001b[39;49mkeep_alive,\n\u001b[1;32m     62\u001b[0m             ignore_proxy\u001b[39m=\u001b[39;49moptions\u001b[39m.\u001b[39;49m_ignore_local_proxy,\n\u001b[1;32m     63\u001b[0m         ),\n\u001b[1;32m     64\u001b[0m         options\u001b[39m=\u001b[39;49moptions,\n\u001b[1;32m     65\u001b[0m     )\n\u001b[1;32m     66\u001b[0m \u001b[39mexcept\u001b[39;00m \u001b[39mException\u001b[39;00m:\n\u001b[1;32m     67\u001b[0m     \u001b[39mself\u001b[39m\u001b[39m.\u001b[39mquit()\n",
      "File \u001b[0;32m~/work/upwork/mcmaster/venv/lib/python3.11/site-packages/selenium/webdriver/remote/webdriver.py:205\u001b[0m, in \u001b[0;36mWebDriver.__init__\u001b[0;34m(self, command_executor, keep_alive, file_detector, options)\u001b[0m\n\u001b[1;32m    203\u001b[0m \u001b[39mself\u001b[39m\u001b[39m.\u001b[39m_authenticator_id \u001b[39m=\u001b[39m \u001b[39mNone\u001b[39;00m\n\u001b[1;32m    204\u001b[0m \u001b[39mself\u001b[39m\u001b[39m.\u001b[39mstart_client()\n\u001b[0;32m--> 205\u001b[0m \u001b[39mself\u001b[39;49m\u001b[39m.\u001b[39;49mstart_session(capabilities)\n",
      "File \u001b[0;32m~/work/upwork/mcmaster/venv/lib/python3.11/site-packages/selenium/webdriver/remote/webdriver.py:289\u001b[0m, in \u001b[0;36mWebDriver.start_session\u001b[0;34m(self, capabilities)\u001b[0m\n\u001b[1;32m    282\u001b[0m \u001b[39m\u001b[39m\u001b[39m\"\"\"Creates a new session with the desired capabilities.\u001b[39;00m\n\u001b[1;32m    283\u001b[0m \n\u001b[1;32m    284\u001b[0m \u001b[39m:Args:\u001b[39;00m\n\u001b[1;32m    285\u001b[0m \u001b[39m - capabilities - a capabilities dict to start the session with.\u001b[39;00m\n\u001b[1;32m    286\u001b[0m \u001b[39m\"\"\"\u001b[39;00m\n\u001b[1;32m    288\u001b[0m caps \u001b[39m=\u001b[39m _create_caps(capabilities)\n\u001b[0;32m--> 289\u001b[0m response \u001b[39m=\u001b[39m \u001b[39mself\u001b[39;49m\u001b[39m.\u001b[39;49mexecute(Command\u001b[39m.\u001b[39;49mNEW_SESSION, caps)[\u001b[39m\"\u001b[39m\u001b[39mvalue\u001b[39m\u001b[39m\"\u001b[39m]\n\u001b[1;32m    290\u001b[0m \u001b[39mself\u001b[39m\u001b[39m.\u001b[39msession_id \u001b[39m=\u001b[39m response\u001b[39m.\u001b[39mget(\u001b[39m\"\u001b[39m\u001b[39msessionId\u001b[39m\u001b[39m\"\u001b[39m)\n\u001b[1;32m    291\u001b[0m \u001b[39mself\u001b[39m\u001b[39m.\u001b[39mcaps \u001b[39m=\u001b[39m response\u001b[39m.\u001b[39mget(\u001b[39m\"\u001b[39m\u001b[39mcapabilities\u001b[39m\u001b[39m\"\u001b[39m)\n",
      "File \u001b[0;32m~/work/upwork/mcmaster/venv/lib/python3.11/site-packages/selenium/webdriver/remote/webdriver.py:344\u001b[0m, in \u001b[0;36mWebDriver.execute\u001b[0;34m(self, driver_command, params)\u001b[0m\n\u001b[1;32m    342\u001b[0m response \u001b[39m=\u001b[39m \u001b[39mself\u001b[39m\u001b[39m.\u001b[39mcommand_executor\u001b[39m.\u001b[39mexecute(driver_command, params)\n\u001b[1;32m    343\u001b[0m \u001b[39mif\u001b[39;00m response:\n\u001b[0;32m--> 344\u001b[0m     \u001b[39mself\u001b[39;49m\u001b[39m.\u001b[39;49merror_handler\u001b[39m.\u001b[39;49mcheck_response(response)\n\u001b[1;32m    345\u001b[0m     response[\u001b[39m\"\u001b[39m\u001b[39mvalue\u001b[39m\u001b[39m\"\u001b[39m] \u001b[39m=\u001b[39m \u001b[39mself\u001b[39m\u001b[39m.\u001b[39m_unwrap_value(response\u001b[39m.\u001b[39mget(\u001b[39m\"\u001b[39m\u001b[39mvalue\u001b[39m\u001b[39m\"\u001b[39m, \u001b[39mNone\u001b[39;00m))\n\u001b[1;32m    346\u001b[0m     \u001b[39mreturn\u001b[39;00m response\n",
      "File \u001b[0;32m~/work/upwork/mcmaster/venv/lib/python3.11/site-packages/selenium/webdriver/remote/errorhandler.py:229\u001b[0m, in \u001b[0;36mErrorHandler.check_response\u001b[0;34m(self, response)\u001b[0m\n\u001b[1;32m    227\u001b[0m         alert_text \u001b[39m=\u001b[39m value[\u001b[39m\"\u001b[39m\u001b[39malert\u001b[39m\u001b[39m\"\u001b[39m]\u001b[39m.\u001b[39mget(\u001b[39m\"\u001b[39m\u001b[39mtext\u001b[39m\u001b[39m\"\u001b[39m)\n\u001b[1;32m    228\u001b[0m     \u001b[39mraise\u001b[39;00m exception_class(message, screen, stacktrace, alert_text)  \u001b[39m# type: ignore[call-arg]  # mypy is not smart enough here\u001b[39;00m\n\u001b[0;32m--> 229\u001b[0m \u001b[39mraise\u001b[39;00m exception_class(message, screen, stacktrace)\n",
      "\u001b[0;31mSessionNotCreatedException\u001b[0m: Message: session not created: This version of ChromeDriver only supports Chrome version 106\nCurrent browser version is 118.0.5993.70 with binary path /Applications/Google Chrome.app/Contents/MacOS/Google Chrome\nStacktrace:\n0   chromedriver                        0x0000000103122f44 chromedriver + 3813188\n1   chromedriver                        0x00000001030b4ae0 chromedriver + 3361504\n2   chromedriver                        0x0000000102db8c5c chromedriver + 232540\n3   chromedriver                        0x0000000102ddcc94 chromedriver + 380052\n4   chromedriver                        0x0000000102dd935c chromedriver + 365404\n5   chromedriver                        0x0000000102dd6208 chromedriver + 352776\n6   chromedriver                        0x0000000102e0a418 chromedriver + 566296\n7   chromedriver                        0x0000000102e09f68 chromedriver + 565096\n8   chromedriver                        0x0000000102ddf358 chromedriver + 389976\n9   chromedriver                        0x0000000102de0284 chromedriver + 393860\n10  chromedriver                        0x00000001030f6e18 chromedriver + 3632664\n11  chromedriver                        0x00000001030fa97c chromedriver + 3647868\n12  chromedriver                        0x0000000103100b58 chromedriver + 3672920\n13  chromedriver                        0x00000001030fb350 chromedriver + 3650384\n14  chromedriver                        0x00000001030d88dc chromedriver + 3508444\n15  chromedriver                        0x0000000103115914 chromedriver + 3758356\n16  chromedriver                        0x0000000103115a78 chromedriver + 3758712\n17  chromedriver                        0x00000001031296cc chromedriver + 3839692\n18  libsystem_pthread.dylib             0x000000018d9b3034 _pthread_start + 136\n19  libsystem_pthread.dylib             0x000000018d9ade3c thread_start + 8\n"
     ]
    }
   ],
   "source": [
    "init = Crawler()\n",
    "init.goto_frontpage()"
   ]
  },
  {
   "cell_type": "code",
   "execution_count": 2,
   "metadata": {},
   "outputs": [
    {
     "name": "stdout",
     "output_type": "stream",
     "text": [
      "add\n",
      "Error occurred: division by zero\n"
     ]
    },
    {
     "name": "stderr",
     "output_type": "stream",
     "text": [
      "Traceback (most recent call last):\n",
      "  File \"/var/folders/zj/8qd476yj2wgccc4b56m5trb00000gn/T/ipykernel_10756/331521730.py\", line 12, in wrapper\n",
      "    result = func(*args, **kwargs)\n",
      "             ^^^^^^^^^^^^^^^^^^^^^\n",
      "  File \"/var/folders/zj/8qd476yj2wgccc4b56m5trb00000gn/T/ipykernel_10756/331521730.py\", line 25, in add\n",
      "    return arg1 / arg2\n",
      "           ~~~~~^~~~~~\n",
      "ZeroDivisionError: division by zero\n"
     ]
    }
   ],
   "source": [
    "import functools\n",
    "import traceback\n",
    "class ErrorHandling:\n",
    "    def __init__(self):\n",
    "        pass\n",
    "\n",
    "    def error_handler(self, func):\n",
    "        functools.wraps(func)\n",
    "        def wrapper(*args, **kwargs):\n",
    "            try:\n",
    "                print(func.__name__)\n",
    "                result = func(*args, **kwargs)\n",
    "                return result\n",
    "            except Exception as e:\n",
    "                traceback.print_exc()\n",
    "                print(f\"Error occurred: {e}\")\n",
    "        return wrapper\n",
    "    \n",
    "class MyClass(ErrorHandling):\n",
    "    def __init__(self):\n",
    "        super().__init__()\n",
    "\n",
    "    @ErrorHandling().error_handler\n",
    "    def add(self, arg1, arg2):\n",
    "        return arg1 / arg2\n",
    "\n",
    "\n",
    "my_instance = MyClass()\n",
    "my_instance.add(30, 0)"
   ]
  },
  {
   "cell_type": "code",
   "execution_count": 3,
   "metadata": {},
   "outputs": [
    {
     "ename": "AssertionError",
     "evalue": "",
     "output_type": "error",
     "traceback": [
      "\u001b[0;31m---------------------------------------------------------------------------\u001b[0m",
      "\u001b[0;31mAssertionError\u001b[0m                            Traceback (most recent call last)",
      "\u001b[1;32m/Users/hash/work/upwork/mcmaster/main.ipynb Cell 28\u001b[0m line \u001b[0;36m1\n\u001b[0;32m----> <a href='vscode-notebook-cell:/Users/hash/work/upwork/mcmaster/main.ipynb#X36sZmlsZQ%3D%3D?line=0'>1</a>\u001b[0m \u001b[39massert\u001b[39;00m \u001b[39mlen\u001b[39m(a) \u001b[39m==\u001b[39m \u001b[39mlen\u001b[39m(b)\n",
      "\u001b[0;31mAssertionError\u001b[0m: "
     ]
    }
   ],
   "source": []
  },
  {
   "cell_type": "code",
   "execution_count": 2,
   "metadata": {},
   "outputs": [],
   "source": [
    "a = [1 ,2 ]\n",
    "b = [3, 4, 5]"
   ]
  },
  {
   "cell_type": "code",
   "execution_count": 6,
   "metadata": {},
   "outputs": [
    {
     "name": "stdout",
     "output_type": "stream",
     "text": [
      "[1, 2] [3, 4, 5]\n"
     ]
    },
    {
     "ename": "AssertionError",
     "evalue": "",
     "output_type": "error",
     "traceback": [
      "\u001b[0;31m---------------------------------------------------------------------------\u001b[0m",
      "\u001b[0;31mAssertionError\u001b[0m                            Traceback (most recent call last)",
      "\u001b[1;32m/Users/hash/work/upwork/mcmaster/main.ipynb Cell 30\u001b[0m line \u001b[0;36m2\n\u001b[1;32m      <a href='vscode-notebook-cell:/Users/hash/work/upwork/mcmaster/main.ipynb#X41sZmlsZQ%3D%3D?line=0'>1</a>\u001b[0m \u001b[39mprint\u001b[39m(a, b)\n\u001b[0;32m----> <a href='vscode-notebook-cell:/Users/hash/work/upwork/mcmaster/main.ipynb#X41sZmlsZQ%3D%3D?line=1'>2</a>\u001b[0m \u001b[39massert\u001b[39;00m \u001b[39mlen\u001b[39m(a) \u001b[39m==\u001b[39m \u001b[39mlen\u001b[39m(b)\n",
      "\u001b[0;31mAssertionError\u001b[0m: "
     ]
    }
   ],
   "source": [
    "print(a, b)\n",
    "assert len(a) == len(b)\n"
   ]
  },
  {
   "cell_type": "code",
   "execution_count": 7,
   "metadata": {},
   "outputs": [],
   "source": [
    "from loguru import logger"
   ]
  },
  {
   "cell_type": "code",
   "execution_count": 9,
   "metadata": {},
   "outputs": [
    {
     "name": "stderr",
     "output_type": "stream",
     "text": [
      "\u001b[32m2023-10-22 02:21:37.246\u001b[0m | \u001b[31m\u001b[1mERROR   \u001b[0m | \u001b[36m__main__\u001b[0m:\u001b[36m<module>\u001b[0m:\u001b[36m1\u001b[0m - \u001b[31m\u001b[1mHeaders are not valid\u001b[0m\n"
     ]
    }
   ],
   "source": [
    "logger.error('Headers are not valid', seria{'headers': 'headers', 'body_data': 2})"
   ]
  },
  {
   "cell_type": "code",
   "execution_count": 19,
   "metadata": {},
   "outputs": [
    {
     "name": "stderr",
     "output_type": "stream",
     "text": [
      "\u001b[32m2023-10-22 02:28:18.757\u001b[0m | \u001b[34m\u001b[1mDEBUG   \u001b[0m | \u001b[36m__main__\u001b[0m:\u001b[36m<module>\u001b[0m:\u001b[36m1\u001b[0m - \u001b[34m\u001b[1m{'headers': 'headers', 'body_data': 2}\u001b[0m\n"
     ]
    },
    {
     "ename": "RuntimeError",
     "evalue": "No active exception to reraise",
     "output_type": "error",
     "traceback": [
      "\u001b[0;31m---------------------------------------------------------------------------\u001b[0m",
      "\u001b[0;31mRuntimeError\u001b[0m                              Traceback (most recent call last)",
      "\u001b[1;32m/Users/hash/work/upwork/mcmaster/main.ipynb Cell 33\u001b[0m line \u001b[0;36m2\n\u001b[1;32m      <a href='vscode-notebook-cell:/Users/hash/work/upwork/mcmaster/main.ipynb#X44sZmlsZQ%3D%3D?line=0'>1</a>\u001b[0m logger\u001b[39m.\u001b[39mdebug({\u001b[39m'\u001b[39m\u001b[39mheaders\u001b[39m\u001b[39m'\u001b[39m: \u001b[39m'\u001b[39m\u001b[39mheaders\u001b[39m\u001b[39m'\u001b[39m, \u001b[39m'\u001b[39m\u001b[39mbody_data\u001b[39m\u001b[39m'\u001b[39m: \u001b[39m2\u001b[39m})\n\u001b[0;32m----> <a href='vscode-notebook-cell:/Users/hash/work/upwork/mcmaster/main.ipynb#X44sZmlsZQ%3D%3D?line=1'>2</a>\u001b[0m \u001b[39mraise\u001b[39;00m\n",
      "\u001b[0;31mRuntimeError\u001b[0m: No active exception to reraise"
     ]
    }
   ],
   "source": [
    "logger.debug({'headers': 'headers', 'body_data': 2})\n",
    "raise"
   ]
  },
  {
   "cell_type": "code",
   "execution_count": 32,
   "metadata": {},
   "outputs": [],
   "source": [
    "from loguru import logger\n",
    "\n",
    "# Define a filter function to exclude specific log levels from the log file\n",
    "def exclude_log_levels(record):\n",
    "    excluded_levels = [\"DEBUG\", \"TRACE\"]  # List of log levels to exclude\n",
    "    return record[\"level\"].name not in excluded_levels\n",
    "\n",
    "# Remove the default output (console) and add a file output with the filter\n",
    "logger.remove()\n",
    "logger.add(\n",
    "    \"app.log\",\n",
    "    level=\"INFO\",\n",
    "    format=\"{time:YYYY-MM-DD HH:mm:ss} | {level} | {message}\",\n",
    "    rotation=\"1 week\",  # Rotate logs weekly\n",
    "    retention=\"2 weeks\",  # Keep logs for two weeks\n",
    "    compression=\"zip\",  # Compress old logs\n",
    "    serialize=True,  # Serialize log records\n",
    "    backtrace=True,  # Include Python backtrace for errors\n",
    "    filter=exclude_log_levels,  # Apply the filter function\n",
    ")\n",
    "\n",
    "# Log messages will be written to the log file, excluding DEBUG and TRACE log levels\n",
    "logger.debug(\"This is a debug message.\")\n",
    "logger.info(\"This is an informational message.\")\n",
    "logger.warning(\"This is a warning message.\")\n",
    "logger.error(\"This is an error message.\")\n"
   ]
  },
  {
   "cell_type": "code",
   "execution_count": 40,
   "metadata": {},
   "outputs": [
    {
     "name": "stdout",
     "output_type": "stream",
     "text": [
      "[4, 6, 9]\n"
     ]
    }
   ],
   "source": [
    "a = [1, 2, 4]\n",
    "b = [3, 4, 5]\n",
    "\n",
    "x = list(map(lambda x, y: x + y, a, b))\n",
    "print(x)"
   ]
  },
  {
   "cell_type": "code",
   "execution_count": 41,
   "metadata": {},
   "outputs": [],
   "source": [
    "headers = [['a', 'b', 'c'], ['d', 'e', 'f']]\n",
    "headers2 = [['a', 'b', 'c'], ['d', 'e', 'f']]"
   ]
  },
  {
   "cell_type": "code",
   "execution_count": 49,
   "metadata": {},
   "outputs": [
    {
     "data": {
      "text/plain": [
       "[['a_a', 'b_b', 'c_c'], ['d_d', 'e_e', 'f_f']]"
      ]
     },
     "execution_count": 49,
     "metadata": {},
     "output_type": "execute_result"
    }
   ],
   "source": [
    "list(map(lambda x, y: list(\"_\".join(i) for i in zip(x, y)), headers, headers2))"
   ]
  },
  {
   "cell_type": "code",
   "execution_count": 56,
   "metadata": {},
   "outputs": [
    {
     "name": "stdout",
     "output_type": "stream",
     "text": [
      "Ft_lg\n"
     ]
    }
   ],
   "source": [
    "import re\n",
    "\n",
    "# Sample unclean text\n",
    "unclean_text = \"5 ft. Lg\"\n",
    "\n",
    "# Clean the text\n",
    "def clean_text(text):\n",
    "    # Remove non-alphanumeric characters and numbers\n",
    "    cleaned_text = re.sub(r'[^a-zA-Z\\s]', '', text).strip()\n",
    "    # Convert to lowercase\n",
    "    cleaned_text = cleaned_text.capitalize()\n",
    "\n",
    "    # Remove extra white spaces\n",
    "    cleaned_text = '_'.join(cleaned_text.split())\n",
    "\n",
    "    return cleaned_text\n",
    "\n",
    "cleaned_text = clean_text(unclean_text)\n",
    "print(cleaned_text)"
   ]
  },
  {
   "cell_type": "code",
   "execution_count": 62,
   "metadata": {},
   "outputs": [
    {
     "name": "stdout",
     "output_type": "stream",
     "text": [
      "      name   age   name\n",
      "     first first second\n",
      "0    Alice    25  David\n",
      "1      Bob    30    Eve\n",
      "2  Charlie    35  Frank\n"
     ]
    }
   ],
   "source": [
    "import pandas as pd\n",
    "\n",
    "# Create a DataFrame with duplicated column names using a multi-index\n",
    "data = {\n",
    "    ('name', 'first'): ['Alice', 'Bob', 'Charlie'],\n",
    "    ('age', 'first'): [25, 30, 35],\n",
    "    ('name', 'second'): ['David', 'Eve', 'Frank'],\n",
    "}\n",
    "\n",
    "df = pd.DataFrame(data)\n",
    "\n",
    "# Display the DataFrame\n",
    "print(df)"
   ]
  },
  {
   "cell_type": "code",
   "execution_count": null,
   "metadata": {},
   "outputs": [],
   "source": [
    "1 1/4\""
   ]
  }
 ],
 "metadata": {
  "kernelspec": {
   "display_name": "venv",
   "language": "python",
   "name": "python3"
  },
  "language_info": {
   "codemirror_mode": {
    "name": "ipython",
    "version": 3
   },
   "file_extension": ".py",
   "mimetype": "text/x-python",
   "name": "python",
   "nbconvert_exporter": "python",
   "pygments_lexer": "ipython3",
   "version": "3.11.4"
  },
  "orig_nbformat": 4
 },
 "nbformat": 4,
 "nbformat_minor": 2
}
